{
 "cells": [
  {
   "cell_type": "markdown",
   "id": "b4997a55",
   "metadata": {},
   "source": [
    "# 3. Filtering high-value transactions from a CSV file for targeted promotions."
   ]
  },
  {
   "cell_type": "code",
   "execution_count": null,
   "id": "53d18e5b",
   "metadata": {},
   "outputs": [],
   "source": [
    "import pandas as pd\n"
   ]
  },
  {
   "cell_type": "code",
   "execution_count": null,
   "id": "d19e2578",
   "metadata": {},
   "outputs": [],
   "source": [
    "df = pd.read_csv(\"transaction_data.csv\")"
   ]
  },
  {
   "cell_type": "code",
   "execution_count": null,
   "id": "f3611627",
   "metadata": {},
   "outputs": [],
   "source": [
    "df.head()"
   ]
  },
  {
   "cell_type": "code",
   "execution_count": null,
   "id": "7834e7f7",
   "metadata": {},
   "outputs": [],
   "source": [
    "df['amount'] = df['amount'].fillna(df['amount'].mean())"
   ]
  },
  {
   "cell_type": "code",
   "execution_count": null,
   "id": "60779234",
   "metadata": {},
   "outputs": [],
   "source": [
    "df.isna().sum()"
   ]
  },
  {
   "cell_type": "code",
   "execution_count": null,
   "id": "2ef6f4f2",
   "metadata": {},
   "outputs": [],
   "source": [
    "df.head()"
   ]
  },
  {
   "cell_type": "code",
   "execution_count": null,
   "id": "0485ad3c",
   "metadata": {},
   "outputs": [],
   "source": [
    "df1=df[df['amount']>df['amount'].mean()]"
   ]
  },
  {
   "cell_type": "code",
   "execution_count": null,
   "id": "15cd004a",
   "metadata": {},
   "outputs": [],
   "source": [
    "df2=df[df['amount']>1000]"
   ]
  },
  {
   "cell_type": "code",
   "execution_count": null,
   "id": "00833d91",
   "metadata": {},
   "outputs": [],
   "source": [
    "df1"
   ]
  },
  {
   "cell_type": "code",
   "execution_count": null,
   "id": "12c769f6",
   "metadata": {},
   "outputs": [],
   "source": [
    "df2"
   ]
  }
 ],
 "metadata": {
  "kernelspec": {
   "display_name": "Python 3",
   "language": "python",
   "name": "python3"
  },
  "language_info": {
   "codemirror_mode": {
    "name": "ipython",
    "version": 3
   },
   "file_extension": ".py",
   "mimetype": "text/x-python",
   "name": "python",
   "nbconvert_exporter": "python",
   "pygments_lexer": "ipython3",
   "version": "3.11.9"
  }
 },
 "nbformat": 4,
 "nbformat_minor": 5
}
