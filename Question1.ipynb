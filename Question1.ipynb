{
 "cells": [
  {
   "cell_type": "markdown",
   "id": "51b797d6",
   "metadata": {},
   "source": [
    "# 1. Processing customer data from a CSV file for a retail company to ensure clean, unique records."
   ]
  },
  {
   "cell_type": "code",
   "execution_count": 679,
   "id": "4e011e57",
   "metadata": {},
   "outputs": [],
   "source": [
    "import pandas as pd"
   ]
  },
  {
   "cell_type": "code",
   "execution_count": 680,
   "id": "2a2013d3",
   "metadata": {},
   "outputs": [
    {
     "data": {
      "text/html": [
       "<div>\n",
       "<style scoped>\n",
       "    .dataframe tbody tr th:only-of-type {\n",
       "        vertical-align: middle;\n",
       "    }\n",
       "\n",
       "    .dataframe tbody tr th {\n",
       "        vertical-align: top;\n",
       "    }\n",
       "\n",
       "    .dataframe thead th {\n",
       "        text-align: right;\n",
       "    }\n",
       "</style>\n",
       "<table border=\"1\" class=\"dataframe\">\n",
       "  <thead>\n",
       "    <tr style=\"text-align: right;\">\n",
       "      <th></th>\n",
       "      <th>customer_id</th>\n",
       "      <th>name</th>\n",
       "      <th>email</th>\n",
       "      <th>phone</th>\n",
       "      <th>address</th>\n",
       "      <th>registration_date</th>\n",
       "      <th>loyalty_status</th>\n",
       "    </tr>\n",
       "  </thead>\n",
       "  <tbody>\n",
       "    <tr>\n",
       "      <th>0</th>\n",
       "      <td>1</td>\n",
       "      <td>Michelle Kidd</td>\n",
       "      <td>vayala@example.net</td>\n",
       "      <td>619-723-4258</td>\n",
       "      <td>USNS Santiago, FPO AE 80872</td>\n",
       "      <td>25-01-2025</td>\n",
       "      <td>Gold</td>\n",
       "    </tr>\n",
       "    <tr>\n",
       "      <th>1</th>\n",
       "      <td>2</td>\n",
       "      <td>Brad Newton</td>\n",
       "      <td>taylorcatherine@example.net</td>\n",
       "      <td>537-674-1158</td>\n",
       "      <td>38783 Oliver Street, West Kristenborough, MT 9...</td>\n",
       "      <td>13-07-2023</td>\n",
       "      <td>Silver</td>\n",
       "    </tr>\n",
       "    <tr>\n",
       "      <th>2</th>\n",
       "      <td>3</td>\n",
       "      <td>Larry Torres</td>\n",
       "      <td>dsanchez@example.net</td>\n",
       "      <td>810-256-4505</td>\n",
       "      <td>6845 Steele Turnpike, West Erikabury, UT 37487</td>\n",
       "      <td>18-08-2023</td>\n",
       "      <td>Bronze</td>\n",
       "    </tr>\n",
       "    <tr>\n",
       "      <th>3</th>\n",
       "      <td>4</td>\n",
       "      <td>Kimberly Price</td>\n",
       "      <td>jessicaknight@example.com</td>\n",
       "      <td>423-222-9779</td>\n",
       "      <td>1631 Alexis Meadows, Lake Amanda, CA 75179</td>\n",
       "      <td>08-12-2024</td>\n",
       "      <td>Gold</td>\n",
       "    </tr>\n",
       "    <tr>\n",
       "      <th>4</th>\n",
       "      <td>5</td>\n",
       "      <td>Matthew Phillips</td>\n",
       "      <td>qwilliams@example.com</td>\n",
       "      <td>220-763-3522</td>\n",
       "      <td>2274 Williams Heights Suite 895, Andersonhaven...</td>\n",
       "      <td>03-02-2024</td>\n",
       "      <td>Gold</td>\n",
       "    </tr>\n",
       "  </tbody>\n",
       "</table>\n",
       "</div>"
      ],
      "text/plain": [
       "   customer_id              name                        email         phone  \\\n",
       "0            1     Michelle Kidd           vayala@example.net  619-723-4258   \n",
       "1            2       Brad Newton  taylorcatherine@example.net  537-674-1158   \n",
       "2            3      Larry Torres         dsanchez@example.net  810-256-4505   \n",
       "3            4    Kimberly Price    jessicaknight@example.com  423-222-9779   \n",
       "4            5  Matthew Phillips        qwilliams@example.com  220-763-3522   \n",
       "\n",
       "                                             address registration_date  \\\n",
       "0                        USNS Santiago, FPO AE 80872        25-01-2025   \n",
       "1  38783 Oliver Street, West Kristenborough, MT 9...        13-07-2023   \n",
       "2     6845 Steele Turnpike, West Erikabury, UT 37487        18-08-2023   \n",
       "3         1631 Alexis Meadows, Lake Amanda, CA 75179        08-12-2024   \n",
       "4  2274 Williams Heights Suite 895, Andersonhaven...        03-02-2024   \n",
       "\n",
       "  loyalty_status  \n",
       "0           Gold  \n",
       "1         Silver  \n",
       "2         Bronze  \n",
       "3           Gold  \n",
       "4           Gold  "
      ]
     },
     "execution_count": 680,
     "metadata": {},
     "output_type": "execute_result"
    }
   ],
   "source": [
    "df_customer=pd.read_csv(\"us_customer_data 1.csv\")\n",
    "df_customer.head()"
   ]
  },
  {
   "cell_type": "code",
   "execution_count": 681,
   "id": "c7daeb7c",
   "metadata": {},
   "outputs": [
    {
     "data": {
      "text/plain": [
       "customer_id           0\n",
       "name                  0\n",
       "email                50\n",
       "phone                16\n",
       "address               0\n",
       "registration_date     0\n",
       "loyalty_status        0\n",
       "dtype: int64"
      ]
     },
     "execution_count": 681,
     "metadata": {},
     "output_type": "execute_result"
    }
   ],
   "source": [
    "df_customer.isna().sum()"
   ]
  },
  {
   "cell_type": "code",
   "execution_count": 682,
   "id": "6a19027c",
   "metadata": {},
   "outputs": [],
   "source": [
    "df_customer['email']=df_customer['email'].fillna(df_customer['name'].str.replace(' ','').str.lower()+'@unknown.com')"
   ]
  },
  {
   "cell_type": "code",
   "execution_count": 683,
   "id": "1cf4f86d",
   "metadata": {},
   "outputs": [
    {
     "data": {
      "text/plain": [
       "customer_id           0\n",
       "name                  0\n",
       "email                 0\n",
       "phone                16\n",
       "address               0\n",
       "registration_date     0\n",
       "loyalty_status        0\n",
       "dtype: int64"
      ]
     },
     "execution_count": 683,
     "metadata": {},
     "output_type": "execute_result"
    }
   ],
   "source": [
    "df_customer.isna().sum()"
   ]
  },
  {
   "cell_type": "code",
   "execution_count": 684,
   "id": "55e47d61",
   "metadata": {},
   "outputs": [
    {
     "data": {
      "text/plain": [
       "customer_id                                                        28\n",
       "name                                                     Brandon Hall\n",
       "email                                         brandonhall@unknown.com\n",
       "phone                                                    974-123-3048\n",
       "address              8143 Robert Cove Apt. 103, Sanchezport, CO 78231\n",
       "registration_date                                          07-04-2024\n",
       "loyalty_status                                                   Gold\n",
       "Name: 27, dtype: object"
      ]
     },
     "execution_count": 684,
     "metadata": {},
     "output_type": "execute_result"
    }
   ],
   "source": [
    "df_customer.loc[27]"
   ]
  },
  {
   "cell_type": "code",
   "execution_count": 685,
   "id": "aa95d512",
   "metadata": {},
   "outputs": [],
   "source": [
    "df_customer['phone']=df_customer['phone'].fillna('xxx-xxx-xxxx')"
   ]
  },
  {
   "cell_type": "code",
   "execution_count": 686,
   "id": "0132b27c",
   "metadata": {},
   "outputs": [],
   "source": [
    "df_customer['phone']=df_customer['phone'].str.replace('-','')"
   ]
  },
  {
   "cell_type": "code",
   "execution_count": 687,
   "id": "98d7e887",
   "metadata": {},
   "outputs": [],
   "source": [
    "df_customer.loc[df_customer['phone'].str.len()<10,'phone']='xxxxxxxxx'"
   ]
  },
  {
   "cell_type": "code",
   "execution_count": 688,
   "id": "5933d616",
   "metadata": {},
   "outputs": [
    {
     "data": {
      "text/plain": [
       "customer_id                                                        445\n",
       "name                                                      Mallory Mann\n",
       "email                                            charles11@example.net\n",
       "phone                                                     8995804(497)\n",
       "address              14758 Bautista Fords Apt. 251, Sandrachester, ...\n",
       "registration_date                                           23-10-2024\n",
       "loyalty_status                                                    Gold\n",
       "Name: 444, dtype: object"
      ]
     },
     "execution_count": 688,
     "metadata": {},
     "output_type": "execute_result"
    }
   ],
   "source": [
    "df_customer.head(2)\n",
    "df_customer.loc[444]"
   ]
  },
  {
   "cell_type": "code",
   "execution_count": 689,
   "id": "9c1ae687",
   "metadata": {},
   "outputs": [],
   "source": [
    "df_customer['phone']=df_customer['phone'].str.replace(r'\\D','',regex=True)\n",
    "df_customer['phone']=df_customer['phone'].str.slice(0,11)"
   ]
  },
  {
   "cell_type": "code",
   "execution_count": 690,
   "id": "1af1254d",
   "metadata": {},
   "outputs": [
    {
     "data": {
      "text/plain": [
       "customer_id                                                        445\n",
       "name                                                      Mallory Mann\n",
       "email                                            charles11@example.net\n",
       "phone                                                       8995804497\n",
       "address              14758 Bautista Fords Apt. 251, Sandrachester, ...\n",
       "registration_date                                           23-10-2024\n",
       "loyalty_status                                                    Gold\n",
       "Name: 444, dtype: object"
      ]
     },
     "execution_count": 690,
     "metadata": {},
     "output_type": "execute_result"
    }
   ],
   "source": [
    "df_customer.loc[444]"
   ]
  },
  {
   "cell_type": "code",
   "execution_count": 691,
   "id": "33278a29",
   "metadata": {},
   "outputs": [
    {
     "data": {
      "text/plain": [
       "customer_id          0\n",
       "name                 0\n",
       "email                0\n",
       "phone                0\n",
       "address              0\n",
       "registration_date    0\n",
       "loyalty_status       0\n",
       "dtype: int64"
      ]
     },
     "execution_count": 691,
     "metadata": {},
     "output_type": "execute_result"
    }
   ],
   "source": [
    "df_customer.isna().sum()"
   ]
  },
  {
   "cell_type": "code",
   "execution_count": 692,
   "id": "b8c14d61",
   "metadata": {},
   "outputs": [],
   "source": [
    "df_customer.to_csv('testing.csv',index=False)"
   ]
  }
 ],
 "metadata": {
  "kernelspec": {
   "display_name": "Python 3",
   "language": "python",
   "name": "python3"
  },
  "language_info": {
   "name": "python",
   "version": "3.11.9"
  }
 },
 "nbformat": 4,
 "nbformat_minor": 5
}
