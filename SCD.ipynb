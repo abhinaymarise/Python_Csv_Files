{
 "cells": [
  {
   "cell_type": "markdown",
   "id": "ed7b3a69",
   "metadata": {},
   "source": [
    "# Establishing a connection with Sql Server"
   ]
  },
  {
   "cell_type": "code",
   "execution_count": 1,
   "id": "1a5b8db8",
   "metadata": {},
   "outputs": [],
   "source": [
    "import pyodbc\n",
    "\n",
    "try:\n",
    "    con=pyodbc.connect(\n",
    "        'DRIVER={Odbc Driver 17 for SQL Server};'\n",
    "        'SERVER=DESKTOP-4IVU8N4\\\\MSSQLSERVER1;'\n",
    "        'UID=sa;'\n",
    "        'PWD=abcd;',\n",
    "        autocommit=True\n",
    "    )\n",
    "except Exception as e:\n",
    "        print(\"Connect it properly\",e)"
   ]
  },
  {
   "cell_type": "markdown",
   "id": "8c0656c7",
   "metadata": {},
   "source": [
    "# Creation of Database using Sql Server"
   ]
  },
  {
   "cell_type": "code",
   "execution_count": 2,
   "id": "272eac6b",
   "metadata": {},
   "outputs": [
    {
     "name": "stdout",
     "output_type": "stream",
     "text": [
      "Work more on Database Connection\n"
     ]
    }
   ],
   "source": [
    "try:\n",
    "    cursor=con.cursor()\n",
    "    demo = 'SCD'\n",
    "    create_db_query=f\"Create database {demo};\"\n",
    "    cursor.execute(create_db_query)\n",
    "    print(\"Hoorah, Database Created!!\")\n",
    "except Exception as e:\n",
    "    print('Work more on Database Connection')"
   ]
  },
  {
   "cell_type": "markdown",
   "id": "7e88d99c",
   "metadata": {},
   "source": [
    "# Using SQLITE3, it is used to create a database within the venv for temporary purpose\n"
   ]
  },
  {
   "cell_type": "code",
   "execution_count": 3,
   "id": "7561bc16",
   "metadata": {},
   "outputs": [],
   "source": [
    "# import sqlite3\n",
    "\n",
    "# try:\n",
    "#     con=sqlite3.connect(\"SCD.db\")\n",
    "#     print(\"connected successfully\")\n",
    "# except Exception as e:\n",
    "#     print(\"not connected\")"
   ]
  },
  {
   "cell_type": "markdown",
   "id": "bc919e95",
   "metadata": {},
   "source": [
    "# Connecting with Created Database"
   ]
  },
  {
   "cell_type": "code",
   "execution_count": 4,
   "id": "2e612ede",
   "metadata": {},
   "outputs": [
    {
     "name": "stdout",
     "output_type": "stream",
     "text": [
      "Man, you made it!\n"
     ]
    }
   ],
   "source": [
    "from sqlalchemy import create_engine\n",
    "\n",
    "try:\n",
    "    engine = create_engine('mssql+pyodbc://@DESKTOP-4IVU8N4\\MSSQLSERVER1/SCD?driver=Odbc+Driver+17+for+SQL+Server&trusted_connection=yes')\n",
    "    print(\"Man, you made it!\")\n",
    "except Exception as e:\n",
    "    print(\"Database not connected!, Think more you are too close\")"
   ]
  },
  {
   "cell_type": "markdown",
   "id": "4e5614f8",
   "metadata": {},
   "source": [
    "# SCD-0"
   ]
  },
  {
   "cell_type": "markdown",
   "id": "47706243",
   "metadata": {},
   "source": [
    "## Inserting the Values through hard coded method"
   ]
  },
  {
   "cell_type": "code",
   "execution_count": 5,
   "id": "990ab9b9",
   "metadata": {},
   "outputs": [],
   "source": [
    "import pandas as pd\n",
    "\n",
    "data = {\n",
    "    'Employee_Id' : ['101','102','103','104'],\n",
    "    'Name' : ['John','Smith','Reg','Brik'],\n",
    "    'DOB' : ['12-10-1996','13-10-1996','14-10-1996','15-10-1996'],\n",
    "    'Gender':['Male','Male','Female','Female'],\n",
    "    'Role': ['SDE','Data Engineer','Business Analyst','DevOps']\n",
    "}\n",
    "\n",
    "mod_data = {\n",
    "    'Employee_Id' : ['101','102','103','104'],\n",
    "    'Name' : ['John','Smith','Reg','Brik'],\n",
    "    'DOB' : ['12-10-1996','13-11-1996','14-10-1996','15-11-1996'],\n",
    "    'Gender':['Male','Female','Female','Male'],\n",
    "    'Role': ['System Engineer','SDE','Business Mangager','Testing']\n",
    "}"
   ]
  },
  {
   "cell_type": "markdown",
   "id": "9696f0bc",
   "metadata": {},
   "source": [
    "## Converting the data into Dataframe"
   ]
  },
  {
   "cell_type": "code",
   "execution_count": 6,
   "id": "15b830df",
   "metadata": {},
   "outputs": [],
   "source": [
    "dim_data= pd.DataFrame(data)\n",
    "staging_data = pd.DataFrame(mod_data)"
   ]
  },
  {
   "cell_type": "code",
   "execution_count": 7,
   "id": "3582d264",
   "metadata": {},
   "outputs": [
    {
     "data": {
      "text/html": [
       "<div>\n",
       "<style scoped>\n",
       "    .dataframe tbody tr th:only-of-type {\n",
       "        vertical-align: middle;\n",
       "    }\n",
       "\n",
       "    .dataframe tbody tr th {\n",
       "        vertical-align: top;\n",
       "    }\n",
       "\n",
       "    .dataframe thead th {\n",
       "        text-align: right;\n",
       "    }\n",
       "</style>\n",
       "<table border=\"1\" class=\"dataframe\">\n",
       "  <thead>\n",
       "    <tr style=\"text-align: right;\">\n",
       "      <th></th>\n",
       "      <th>Employee_Id</th>\n",
       "      <th>Name</th>\n",
       "      <th>DOB</th>\n",
       "      <th>Gender</th>\n",
       "      <th>Role</th>\n",
       "    </tr>\n",
       "  </thead>\n",
       "  <tbody>\n",
       "    <tr>\n",
       "      <th>0</th>\n",
       "      <td>101</td>\n",
       "      <td>John</td>\n",
       "      <td>12-10-1996</td>\n",
       "      <td>Male</td>\n",
       "      <td>SDE</td>\n",
       "    </tr>\n",
       "    <tr>\n",
       "      <th>1</th>\n",
       "      <td>102</td>\n",
       "      <td>Smith</td>\n",
       "      <td>13-10-1996</td>\n",
       "      <td>Male</td>\n",
       "      <td>Data Engineer</td>\n",
       "    </tr>\n",
       "    <tr>\n",
       "      <th>2</th>\n",
       "      <td>103</td>\n",
       "      <td>Reg</td>\n",
       "      <td>14-10-1996</td>\n",
       "      <td>Female</td>\n",
       "      <td>Business Analyst</td>\n",
       "    </tr>\n",
       "    <tr>\n",
       "      <th>3</th>\n",
       "      <td>104</td>\n",
       "      <td>Brik</td>\n",
       "      <td>15-10-1996</td>\n",
       "      <td>Female</td>\n",
       "      <td>DevOps</td>\n",
       "    </tr>\n",
       "  </tbody>\n",
       "</table>\n",
       "</div>"
      ],
      "text/plain": [
       "  Employee_Id   Name         DOB  Gender              Role\n",
       "0         101   John  12-10-1996    Male               SDE\n",
       "1         102  Smith  13-10-1996    Male     Data Engineer\n",
       "2         103    Reg  14-10-1996  Female  Business Analyst\n",
       "3         104   Brik  15-10-1996  Female            DevOps"
      ]
     },
     "execution_count": 7,
     "metadata": {},
     "output_type": "execute_result"
    }
   ],
   "source": [
    "dim_data"
   ]
  },
  {
   "cell_type": "code",
   "execution_count": 8,
   "id": "189c6667",
   "metadata": {},
   "outputs": [
    {
     "data": {
      "text/html": [
       "<div>\n",
       "<style scoped>\n",
       "    .dataframe tbody tr th:only-of-type {\n",
       "        vertical-align: middle;\n",
       "    }\n",
       "\n",
       "    .dataframe tbody tr th {\n",
       "        vertical-align: top;\n",
       "    }\n",
       "\n",
       "    .dataframe thead th {\n",
       "        text-align: right;\n",
       "    }\n",
       "</style>\n",
       "<table border=\"1\" class=\"dataframe\">\n",
       "  <thead>\n",
       "    <tr style=\"text-align: right;\">\n",
       "      <th></th>\n",
       "      <th>Employee_Id</th>\n",
       "      <th>Name</th>\n",
       "      <th>DOB</th>\n",
       "      <th>Gender</th>\n",
       "      <th>Role</th>\n",
       "    </tr>\n",
       "  </thead>\n",
       "  <tbody>\n",
       "    <tr>\n",
       "      <th>0</th>\n",
       "      <td>101</td>\n",
       "      <td>John</td>\n",
       "      <td>12-10-1996</td>\n",
       "      <td>Male</td>\n",
       "      <td>System Engineer</td>\n",
       "    </tr>\n",
       "    <tr>\n",
       "      <th>1</th>\n",
       "      <td>102</td>\n",
       "      <td>Smith</td>\n",
       "      <td>13-11-1996</td>\n",
       "      <td>Female</td>\n",
       "      <td>SDE</td>\n",
       "    </tr>\n",
       "    <tr>\n",
       "      <th>2</th>\n",
       "      <td>103</td>\n",
       "      <td>Reg</td>\n",
       "      <td>14-10-1996</td>\n",
       "      <td>Female</td>\n",
       "      <td>Business Mangager</td>\n",
       "    </tr>\n",
       "    <tr>\n",
       "      <th>3</th>\n",
       "      <td>104</td>\n",
       "      <td>Brik</td>\n",
       "      <td>15-11-1996</td>\n",
       "      <td>Male</td>\n",
       "      <td>Testing</td>\n",
       "    </tr>\n",
       "  </tbody>\n",
       "</table>\n",
       "</div>"
      ],
      "text/plain": [
       "  Employee_Id   Name         DOB  Gender               Role\n",
       "0         101   John  12-10-1996    Male    System Engineer\n",
       "1         102  Smith  13-11-1996  Female                SDE\n",
       "2         103    Reg  14-10-1996  Female  Business Mangager\n",
       "3         104   Brik  15-11-1996    Male            Testing"
      ]
     },
     "execution_count": 8,
     "metadata": {},
     "output_type": "execute_result"
    }
   ],
   "source": [
    "staging_data"
   ]
  },
  {
   "cell_type": "markdown",
   "id": "825a7740",
   "metadata": {},
   "source": [
    "## Access to User Login Credentials in SQL"
   ]
  },
  {
   "cell_type": "code",
   "execution_count": 9,
   "id": "571feb2c",
   "metadata": {},
   "outputs": [],
   "source": [
    "# USE SCD;\n",
    "\n",
    "# -- Grant user access if it doesn't already exist\n",
    "# IF NOT EXISTS (\n",
    "#     SELECT * FROM sys.database_principals WHERE name = 'DESKTOP-4IVU8N4\\Abhinay'\n",
    "# )\n",
    "# BEGIN\n",
    "#     CREATE USER [DESKTOP-4IVU8N4\\Abhinay] FOR LOGIN [DESKTOP-4IVU8N4\\Abhinay];\n",
    "#     ALTER ROLE db_owner ADD MEMBER [DESKTOP-4IVU8N4\\Abhinay];\n",
    "# END\n"
   ]
  },
  {
   "cell_type": "markdown",
   "id": "b196166c",
   "metadata": {},
   "source": [
    "## Insertion of Tables"
   ]
  },
  {
   "cell_type": "code",
   "execution_count": 10,
   "id": "58e8a837",
   "metadata": {},
   "outputs": [
    {
     "name": "stdout",
     "output_type": "stream",
     "text": [
      "Tables are inserted\n"
     ]
    }
   ],
   "source": [
    "try:\n",
    "    dim_data.to_sql(\"Existing_Data\",con=engine,if_exists='replace',index=False)\n",
    "    staging_data.to_sql(\"Latest_Data\",con=engine,if_exists='replace',index=False)\n",
    "    print(\"Tables are inserted\")\n",
    "except Exception as e:\n",
    "    print(\"Tables are not inserted, try more you will do it!\",e)"
   ]
  },
  {
   "cell_type": "markdown",
   "id": "a21c32be",
   "metadata": {},
   "source": [
    "## Merge upon Existing_Data and Latest_Data"
   ]
  },
  {
   "cell_type": "code",
   "execution_count": 11,
   "id": "770fe7f6",
   "metadata": {},
   "outputs": [
    {
     "data": {
      "text/html": [
       "<div>\n",
       "<style scoped>\n",
       "    .dataframe tbody tr th:only-of-type {\n",
       "        vertical-align: middle;\n",
       "    }\n",
       "\n",
       "    .dataframe tbody tr th {\n",
       "        vertical-align: top;\n",
       "    }\n",
       "\n",
       "    .dataframe thead th {\n",
       "        text-align: right;\n",
       "    }\n",
       "</style>\n",
       "<table border=\"1\" class=\"dataframe\">\n",
       "  <thead>\n",
       "    <tr style=\"text-align: right;\">\n",
       "      <th></th>\n",
       "      <th>Employee_Id</th>\n",
       "      <th>Name_old</th>\n",
       "      <th>DOB_old</th>\n",
       "      <th>Gender_old</th>\n",
       "      <th>Role_old</th>\n",
       "      <th>Name_new</th>\n",
       "      <th>DOB_new</th>\n",
       "      <th>Gender_new</th>\n",
       "      <th>Role_new</th>\n",
       "    </tr>\n",
       "  </thead>\n",
       "  <tbody>\n",
       "    <tr>\n",
       "      <th>0</th>\n",
       "      <td>101</td>\n",
       "      <td>John</td>\n",
       "      <td>12-10-1996</td>\n",
       "      <td>Male</td>\n",
       "      <td>SDE</td>\n",
       "      <td>John</td>\n",
       "      <td>12-10-1996</td>\n",
       "      <td>Male</td>\n",
       "      <td>System Engineer</td>\n",
       "    </tr>\n",
       "    <tr>\n",
       "      <th>1</th>\n",
       "      <td>102</td>\n",
       "      <td>Smith</td>\n",
       "      <td>13-10-1996</td>\n",
       "      <td>Male</td>\n",
       "      <td>Data Engineer</td>\n",
       "      <td>Smith</td>\n",
       "      <td>13-11-1996</td>\n",
       "      <td>Female</td>\n",
       "      <td>SDE</td>\n",
       "    </tr>\n",
       "    <tr>\n",
       "      <th>2</th>\n",
       "      <td>103</td>\n",
       "      <td>Reg</td>\n",
       "      <td>14-10-1996</td>\n",
       "      <td>Female</td>\n",
       "      <td>Business Analyst</td>\n",
       "      <td>Reg</td>\n",
       "      <td>14-10-1996</td>\n",
       "      <td>Female</td>\n",
       "      <td>Business Mangager</td>\n",
       "    </tr>\n",
       "    <tr>\n",
       "      <th>3</th>\n",
       "      <td>104</td>\n",
       "      <td>Brik</td>\n",
       "      <td>15-10-1996</td>\n",
       "      <td>Female</td>\n",
       "      <td>DevOps</td>\n",
       "      <td>Brik</td>\n",
       "      <td>15-11-1996</td>\n",
       "      <td>Male</td>\n",
       "      <td>Testing</td>\n",
       "    </tr>\n",
       "  </tbody>\n",
       "</table>\n",
       "</div>"
      ],
      "text/plain": [
       "  Employee_Id Name_old     DOB_old Gender_old          Role_old Name_new  \\\n",
       "0         101     John  12-10-1996       Male               SDE     John   \n",
       "1         102    Smith  13-10-1996       Male     Data Engineer    Smith   \n",
       "2         103      Reg  14-10-1996     Female  Business Analyst      Reg   \n",
       "3         104     Brik  15-10-1996     Female            DevOps     Brik   \n",
       "\n",
       "      DOB_new Gender_new           Role_new  \n",
       "0  12-10-1996       Male    System Engineer  \n",
       "1  13-11-1996     Female                SDE  \n",
       "2  14-10-1996     Female  Business Mangager  \n",
       "3  15-11-1996       Male            Testing  "
      ]
     },
     "execution_count": 11,
     "metadata": {},
     "output_type": "execute_result"
    }
   ],
   "source": [
    "merged_data = pd.merge(dim_data,staging_data,on=\"Employee_Id\",suffixes=(\"_old\",\"_new\"))\n",
    "merged_data.head()"
   ]
  },
  {
   "cell_type": "markdown",
   "id": "c4c4f0b2",
   "metadata": {},
   "source": [
    "## Verfiying the SCD_0 Type for any Violations "
   ]
  },
  {
   "cell_type": "code",
   "execution_count": 12,
   "id": "b5dae02d",
   "metadata": {},
   "outputs": [
    {
     "name": "stdout",
     "output_type": "stream",
     "text": [
      "Violation of SCD_0, Changes in Immutuable Fields\n",
      "\n",
      "  Employee_Id     DOB_old     DOB_new Gender_old Gender_new\n",
      "1         102  13-10-1996  13-11-1996       Male     Female\n",
      "3         104  15-10-1996  15-11-1996     Female       Male\n"
     ]
    }
   ],
   "source": [
    "violations_of_scd0 = merged_data[(merged_data['DOB_old']!=merged_data['DOB_new']) | (merged_data['Gender_old']!=merged_data['Gender_new'])]\n",
    "\n",
    "if not violations_of_scd0.empty:\n",
    "    print(\"Violation of SCD_0, Changes in Immutuable Fields\\n\") \n",
    "    print(violations_of_scd0[['Employee_Id','DOB_old','DOB_new','Gender_old','Gender_new']])\n",
    "else:\n",
    "    print(\"Stay Relax, the data is free from SCD_0\")"
   ]
  },
  {
   "cell_type": "markdown",
   "id": "18c411a9",
   "metadata": {},
   "source": [
    "## Creation of Log File for the violation of SCD_0 Type"
   ]
  },
  {
   "cell_type": "code",
   "execution_count": 13,
   "id": "c8571cdf",
   "metadata": {},
   "outputs": [
    {
     "data": {
      "text/html": [
       "<div>\n",
       "<style scoped>\n",
       "    .dataframe tbody tr th:only-of-type {\n",
       "        vertical-align: middle;\n",
       "    }\n",
       "\n",
       "    .dataframe tbody tr th {\n",
       "        vertical-align: top;\n",
       "    }\n",
       "\n",
       "    .dataframe thead th {\n",
       "        text-align: right;\n",
       "    }\n",
       "</style>\n",
       "<table border=\"1\" class=\"dataframe\">\n",
       "  <thead>\n",
       "    <tr style=\"text-align: right;\">\n",
       "      <th></th>\n",
       "      <th>Employee_Id</th>\n",
       "      <th>Name_old</th>\n",
       "      <th>DOB_old</th>\n",
       "      <th>Gender_old</th>\n",
       "      <th>Role_old</th>\n",
       "      <th>Name_new</th>\n",
       "      <th>DOB_new</th>\n",
       "      <th>Gender_new</th>\n",
       "      <th>Role_new</th>\n",
       "    </tr>\n",
       "  </thead>\n",
       "  <tbody>\n",
       "    <tr>\n",
       "      <th>0</th>\n",
       "      <td>101</td>\n",
       "      <td>John</td>\n",
       "      <td>12-10-1996</td>\n",
       "      <td>Male</td>\n",
       "      <td>SDE</td>\n",
       "      <td>John</td>\n",
       "      <td>12-10-1996</td>\n",
       "      <td>Male</td>\n",
       "      <td>System Engineer</td>\n",
       "    </tr>\n",
       "    <tr>\n",
       "      <th>2</th>\n",
       "      <td>103</td>\n",
       "      <td>Reg</td>\n",
       "      <td>14-10-1996</td>\n",
       "      <td>Female</td>\n",
       "      <td>Business Analyst</td>\n",
       "      <td>Reg</td>\n",
       "      <td>14-10-1996</td>\n",
       "      <td>Female</td>\n",
       "      <td>Business Mangager</td>\n",
       "    </tr>\n",
       "  </tbody>\n",
       "</table>\n",
       "</div>"
      ],
      "text/plain": [
       "  Employee_Id Name_old     DOB_old Gender_old          Role_old Name_new  \\\n",
       "0         101     John  12-10-1996       Male               SDE     John   \n",
       "2         103      Reg  14-10-1996     Female  Business Analyst      Reg   \n",
       "\n",
       "      DOB_new Gender_new           Role_new  \n",
       "0  12-10-1996       Male    System Engineer  \n",
       "2  14-10-1996     Female  Business Mangager  "
      ]
     },
     "execution_count": 13,
     "metadata": {},
     "output_type": "execute_result"
    }
   ],
   "source": [
    "violations_of_scd0.to_csv(\"scd_violations_log_file.csv\",mode='a',index=False)\n",
    "Cleaned_Data = merged_data[~merged_data['Employee_Id'].isin(violations_of_scd0['Employee_Id'])]\n",
    "Cleaned_Data"
   ]
  },
  {
   "cell_type": "markdown",
   "id": "c39a8525",
   "metadata": {},
   "source": [
    "# SCD-1"
   ]
  },
  {
   "cell_type": "markdown",
   "id": "8fcb98bd",
   "metadata": {},
   "source": [
    "## Connect to the SQL Server"
   ]
  },
  {
   "cell_type": "code",
   "execution_count": 14,
   "id": "24c32e61",
   "metadata": {},
   "outputs": [],
   "source": [
    "con = pyodbc.connect(\n",
    "    'DRIVER={ODBC Driver 17 for SQL Server};'\n",
    "    'SERVER=DESKTOP-4IVU8N4\\\\MSSQLSERVER1;'\n",
    "    'DATABASE=SCD;'\n",
    "    'Trusted_Connection=yes;'\n",
    ")"
   ]
  },
  {
   "cell_type": "markdown",
   "id": "ccf74096",
   "metadata": {},
   "source": [
    "## Updating the Table Records"
   ]
  },
  {
   "cell_type": "code",
   "execution_count": 15,
   "id": "30b06879",
   "metadata": {},
   "outputs": [],
   "source": [
    "cursor = con.cursor()\n",
    "insert_query=\"\"\"\n",
    "INSERT INTO Existing_Data(Employee_Id,Name,DOB,Gender,Role)\n",
    "Values\n",
    "(?,?,?,?,?)\n",
    "\"\"\"\n",
    "value=(105,\"Jane\",\"15-10-1996\",\"Male\",\"SDE\")\n",
    "values=(106,\"Rookie\",\"12-11-1996\",\"Female\",\"Data Analyst\")\n",
    "cursor.execute(insert_query,value)\n",
    "cursor.execute(insert_query,values)\n",
    "con.commit()"
   ]
  },
  {
   "cell_type": "code",
   "execution_count": 16,
   "id": "3dfb5a98",
   "metadata": {},
   "outputs": [],
   "source": [
    "insert_query_into_latest=\"\"\"\n",
    "INSERT INTO Latest_Data(Employee_Id,Name,DOB,Gender,Role)\n",
    "Values\n",
    "(?,?,?,?,?)\n",
    "\"\"\"\n",
    "value_lat=(105,\"Jane Smith\",\"15-10-1996\",\"Male\",\"DevOps\")\n",
    "values_lat=(106,\"Rookie Paul\",\"12-11-1996\",\"Female\",\"HR\")\n",
    "cursor.execute(insert_query_into_latest,value_lat)\n",
    "cursor.execute(insert_query_into_latest,values_lat)\n",
    "con.commit()"
   ]
  },
  {
   "cell_type": "markdown",
   "id": "3a85b02c",
   "metadata": {},
   "source": [
    "## Reading the Table Records"
   ]
  },
  {
   "cell_type": "code",
   "execution_count": 17,
   "id": "794c0524",
   "metadata": {},
   "outputs": [
    {
     "name": "stderr",
     "output_type": "stream",
     "text": [
      "C:\\Users\\Abhinay\\AppData\\Local\\Temp\\ipykernel_17096\\1211182508.py:1: UserWarning: pandas only supports SQLAlchemy connectable (engine/connection) or database string URI or sqlite3 DBAPI2 connection. Other DBAPI2 objects are not tested. Please consider using SQLAlchemy.\n",
      "  dim_data=pd.read_sql(\"Select * from Existing_data\",con)\n"
     ]
    },
    {
     "data": {
      "text/html": [
       "<div>\n",
       "<style scoped>\n",
       "    .dataframe tbody tr th:only-of-type {\n",
       "        vertical-align: middle;\n",
       "    }\n",
       "\n",
       "    .dataframe tbody tr th {\n",
       "        vertical-align: top;\n",
       "    }\n",
       "\n",
       "    .dataframe thead th {\n",
       "        text-align: right;\n",
       "    }\n",
       "</style>\n",
       "<table border=\"1\" class=\"dataframe\">\n",
       "  <thead>\n",
       "    <tr style=\"text-align: right;\">\n",
       "      <th></th>\n",
       "      <th>Employee_Id</th>\n",
       "      <th>Name</th>\n",
       "      <th>DOB</th>\n",
       "      <th>Gender</th>\n",
       "      <th>Role</th>\n",
       "    </tr>\n",
       "  </thead>\n",
       "  <tbody>\n",
       "    <tr>\n",
       "      <th>0</th>\n",
       "      <td>101</td>\n",
       "      <td>John</td>\n",
       "      <td>12-10-1996</td>\n",
       "      <td>Male</td>\n",
       "      <td>SDE</td>\n",
       "    </tr>\n",
       "    <tr>\n",
       "      <th>1</th>\n",
       "      <td>102</td>\n",
       "      <td>Smith</td>\n",
       "      <td>13-10-1996</td>\n",
       "      <td>Male</td>\n",
       "      <td>Data Engineer</td>\n",
       "    </tr>\n",
       "    <tr>\n",
       "      <th>2</th>\n",
       "      <td>103</td>\n",
       "      <td>Reg</td>\n",
       "      <td>14-10-1996</td>\n",
       "      <td>Female</td>\n",
       "      <td>Business Analyst</td>\n",
       "    </tr>\n",
       "    <tr>\n",
       "      <th>3</th>\n",
       "      <td>104</td>\n",
       "      <td>Brik</td>\n",
       "      <td>15-10-1996</td>\n",
       "      <td>Female</td>\n",
       "      <td>DevOps</td>\n",
       "    </tr>\n",
       "    <tr>\n",
       "      <th>4</th>\n",
       "      <td>105</td>\n",
       "      <td>Jane</td>\n",
       "      <td>15-10-1996</td>\n",
       "      <td>Male</td>\n",
       "      <td>SDE</td>\n",
       "    </tr>\n",
       "    <tr>\n",
       "      <th>5</th>\n",
       "      <td>106</td>\n",
       "      <td>Rookie</td>\n",
       "      <td>12-11-1996</td>\n",
       "      <td>Female</td>\n",
       "      <td>Data Analyst</td>\n",
       "    </tr>\n",
       "  </tbody>\n",
       "</table>\n",
       "</div>"
      ],
      "text/plain": [
       "  Employee_Id    Name         DOB  Gender              Role\n",
       "0         101    John  12-10-1996    Male               SDE\n",
       "1         102   Smith  13-10-1996    Male     Data Engineer\n",
       "2         103     Reg  14-10-1996  Female  Business Analyst\n",
       "3         104    Brik  15-10-1996  Female            DevOps\n",
       "4         105    Jane  15-10-1996    Male               SDE\n",
       "5         106  Rookie  12-11-1996  Female      Data Analyst"
      ]
     },
     "execution_count": 17,
     "metadata": {},
     "output_type": "execute_result"
    }
   ],
   "source": [
    "dim_data=pd.read_sql(\"Select * from Existing_data\",con)\n",
    "dim_data"
   ]
  },
  {
   "cell_type": "code",
   "execution_count": 18,
   "id": "7ed2e55f",
   "metadata": {},
   "outputs": [
    {
     "name": "stderr",
     "output_type": "stream",
     "text": [
      "C:\\Users\\Abhinay\\AppData\\Local\\Temp\\ipykernel_17096\\3706293800.py:1: UserWarning: pandas only supports SQLAlchemy connectable (engine/connection) or database string URI or sqlite3 DBAPI2 connection. Other DBAPI2 objects are not tested. Please consider using SQLAlchemy.\n",
      "  staging_data=pd.read_sql(\"Select * from Latest_Data\",con)\n"
     ]
    },
    {
     "data": {
      "text/html": [
       "<div>\n",
       "<style scoped>\n",
       "    .dataframe tbody tr th:only-of-type {\n",
       "        vertical-align: middle;\n",
       "    }\n",
       "\n",
       "    .dataframe tbody tr th {\n",
       "        vertical-align: top;\n",
       "    }\n",
       "\n",
       "    .dataframe thead th {\n",
       "        text-align: right;\n",
       "    }\n",
       "</style>\n",
       "<table border=\"1\" class=\"dataframe\">\n",
       "  <thead>\n",
       "    <tr style=\"text-align: right;\">\n",
       "      <th></th>\n",
       "      <th>Employee_Id</th>\n",
       "      <th>Name</th>\n",
       "      <th>DOB</th>\n",
       "      <th>Gender</th>\n",
       "      <th>Role</th>\n",
       "    </tr>\n",
       "  </thead>\n",
       "  <tbody>\n",
       "    <tr>\n",
       "      <th>0</th>\n",
       "      <td>101</td>\n",
       "      <td>John</td>\n",
       "      <td>12-10-1996</td>\n",
       "      <td>Male</td>\n",
       "      <td>System Engineer</td>\n",
       "    </tr>\n",
       "    <tr>\n",
       "      <th>1</th>\n",
       "      <td>102</td>\n",
       "      <td>Smith</td>\n",
       "      <td>13-11-1996</td>\n",
       "      <td>Female</td>\n",
       "      <td>SDE</td>\n",
       "    </tr>\n",
       "    <tr>\n",
       "      <th>2</th>\n",
       "      <td>103</td>\n",
       "      <td>Reg</td>\n",
       "      <td>14-10-1996</td>\n",
       "      <td>Female</td>\n",
       "      <td>Business Mangager</td>\n",
       "    </tr>\n",
       "    <tr>\n",
       "      <th>3</th>\n",
       "      <td>104</td>\n",
       "      <td>Brik</td>\n",
       "      <td>15-11-1996</td>\n",
       "      <td>Male</td>\n",
       "      <td>Testing</td>\n",
       "    </tr>\n",
       "    <tr>\n",
       "      <th>4</th>\n",
       "      <td>105</td>\n",
       "      <td>Jane Smith</td>\n",
       "      <td>15-10-1996</td>\n",
       "      <td>Male</td>\n",
       "      <td>DevOps</td>\n",
       "    </tr>\n",
       "    <tr>\n",
       "      <th>5</th>\n",
       "      <td>106</td>\n",
       "      <td>Rookie Paul</td>\n",
       "      <td>12-11-1996</td>\n",
       "      <td>Female</td>\n",
       "      <td>HR</td>\n",
       "    </tr>\n",
       "  </tbody>\n",
       "</table>\n",
       "</div>"
      ],
      "text/plain": [
       "  Employee_Id         Name         DOB  Gender               Role\n",
       "0         101         John  12-10-1996    Male    System Engineer\n",
       "1         102        Smith  13-11-1996  Female                SDE\n",
       "2         103          Reg  14-10-1996  Female  Business Mangager\n",
       "3         104         Brik  15-11-1996    Male            Testing\n",
       "4         105   Jane Smith  15-10-1996    Male             DevOps\n",
       "5         106  Rookie Paul  12-11-1996  Female                 HR"
      ]
     },
     "execution_count": 18,
     "metadata": {},
     "output_type": "execute_result"
    }
   ],
   "source": [
    "staging_data=pd.read_sql(\"Select * from Latest_Data\",con)\n",
    "staging_data"
   ]
  },
  {
   "cell_type": "markdown",
   "id": "041fe8e6",
   "metadata": {},
   "source": [
    "## Updating the Tables for the violation of SCD 1"
   ]
  },
  {
   "cell_type": "code",
   "execution_count": 19,
   "id": "ab5c60d2",
   "metadata": {},
   "outputs": [],
   "source": [
    "update_query =\"\"\"\n",
    "Update ed\n",
    "Set\n",
    "    ed.Name = ld.Name\n",
    "from\n",
    "    Existing_Data ed\n",
    "join\n",
    "    Latest_Data ld on ed.Employee_Id=ld.Employee_Id\n",
    "where\n",
    "    ed.Name <> ld.Name\n",
    "\"\"\"\n",
    "cursor.execute(update_query)\n",
    "con.commit()"
   ]
  },
  {
   "cell_type": "code",
   "execution_count": 20,
   "id": "00eb6c93",
   "metadata": {},
   "outputs": [
    {
     "name": "stderr",
     "output_type": "stream",
     "text": [
      "C:\\Users\\Abhinay\\AppData\\Local\\Temp\\ipykernel_17096\\272427109.py:1: UserWarning: pandas only supports SQLAlchemy connectable (engine/connection) or database string URI or sqlite3 DBAPI2 connection. Other DBAPI2 objects are not tested. Please consider using SQLAlchemy.\n",
      "  dim_data=pd.read_sql(\"Select * from Existing_Data\",con)\n"
     ]
    },
    {
     "data": {
      "text/html": [
       "<div>\n",
       "<style scoped>\n",
       "    .dataframe tbody tr th:only-of-type {\n",
       "        vertical-align: middle;\n",
       "    }\n",
       "\n",
       "    .dataframe tbody tr th {\n",
       "        vertical-align: top;\n",
       "    }\n",
       "\n",
       "    .dataframe thead th {\n",
       "        text-align: right;\n",
       "    }\n",
       "</style>\n",
       "<table border=\"1\" class=\"dataframe\">\n",
       "  <thead>\n",
       "    <tr style=\"text-align: right;\">\n",
       "      <th></th>\n",
       "      <th>Employee_Id</th>\n",
       "      <th>Name</th>\n",
       "      <th>DOB</th>\n",
       "      <th>Gender</th>\n",
       "      <th>Role</th>\n",
       "    </tr>\n",
       "  </thead>\n",
       "  <tbody>\n",
       "    <tr>\n",
       "      <th>0</th>\n",
       "      <td>101</td>\n",
       "      <td>John</td>\n",
       "      <td>12-10-1996</td>\n",
       "      <td>Male</td>\n",
       "      <td>SDE</td>\n",
       "    </tr>\n",
       "    <tr>\n",
       "      <th>1</th>\n",
       "      <td>102</td>\n",
       "      <td>Smith</td>\n",
       "      <td>13-10-1996</td>\n",
       "      <td>Male</td>\n",
       "      <td>Data Engineer</td>\n",
       "    </tr>\n",
       "    <tr>\n",
       "      <th>2</th>\n",
       "      <td>103</td>\n",
       "      <td>Reg</td>\n",
       "      <td>14-10-1996</td>\n",
       "      <td>Female</td>\n",
       "      <td>Business Analyst</td>\n",
       "    </tr>\n",
       "    <tr>\n",
       "      <th>3</th>\n",
       "      <td>104</td>\n",
       "      <td>Brik</td>\n",
       "      <td>15-10-1996</td>\n",
       "      <td>Female</td>\n",
       "      <td>DevOps</td>\n",
       "    </tr>\n",
       "    <tr>\n",
       "      <th>4</th>\n",
       "      <td>105</td>\n",
       "      <td>Jane Smith</td>\n",
       "      <td>15-10-1996</td>\n",
       "      <td>Male</td>\n",
       "      <td>SDE</td>\n",
       "    </tr>\n",
       "    <tr>\n",
       "      <th>5</th>\n",
       "      <td>106</td>\n",
       "      <td>Rookie Paul</td>\n",
       "      <td>12-11-1996</td>\n",
       "      <td>Female</td>\n",
       "      <td>Data Analyst</td>\n",
       "    </tr>\n",
       "  </tbody>\n",
       "</table>\n",
       "</div>"
      ],
      "text/plain": [
       "  Employee_Id         Name         DOB  Gender              Role\n",
       "0         101         John  12-10-1996    Male               SDE\n",
       "1         102        Smith  13-10-1996    Male     Data Engineer\n",
       "2         103          Reg  14-10-1996  Female  Business Analyst\n",
       "3         104         Brik  15-10-1996  Female            DevOps\n",
       "4         105   Jane Smith  15-10-1996    Male               SDE\n",
       "5         106  Rookie Paul  12-11-1996  Female      Data Analyst"
      ]
     },
     "execution_count": 20,
     "metadata": {},
     "output_type": "execute_result"
    }
   ],
   "source": [
    "dim_data=pd.read_sql(\"Select * from Existing_Data\",con)\n",
    "dim_data"
   ]
  },
  {
   "cell_type": "code",
   "execution_count": 21,
   "id": "b327242b",
   "metadata": {},
   "outputs": [
    {
     "data": {
      "text/html": [
       "<div>\n",
       "<style scoped>\n",
       "    .dataframe tbody tr th:only-of-type {\n",
       "        vertical-align: middle;\n",
       "    }\n",
       "\n",
       "    .dataframe tbody tr th {\n",
       "        vertical-align: top;\n",
       "    }\n",
       "\n",
       "    .dataframe thead th {\n",
       "        text-align: right;\n",
       "    }\n",
       "</style>\n",
       "<table border=\"1\" class=\"dataframe\">\n",
       "  <thead>\n",
       "    <tr style=\"text-align: right;\">\n",
       "      <th></th>\n",
       "      <th>Employee_Id</th>\n",
       "      <th>Name_old</th>\n",
       "      <th>DOB_old</th>\n",
       "      <th>Gender_old</th>\n",
       "      <th>Role_old</th>\n",
       "      <th>Name_new</th>\n",
       "      <th>DOB_new</th>\n",
       "      <th>Gender_new</th>\n",
       "      <th>Role_new</th>\n",
       "    </tr>\n",
       "  </thead>\n",
       "  <tbody>\n",
       "    <tr>\n",
       "      <th>0</th>\n",
       "      <td>101</td>\n",
       "      <td>John</td>\n",
       "      <td>12-10-1996</td>\n",
       "      <td>Male</td>\n",
       "      <td>SDE</td>\n",
       "      <td>John</td>\n",
       "      <td>12-10-1996</td>\n",
       "      <td>Male</td>\n",
       "      <td>System Engineer</td>\n",
       "    </tr>\n",
       "    <tr>\n",
       "      <th>1</th>\n",
       "      <td>102</td>\n",
       "      <td>Smith</td>\n",
       "      <td>13-10-1996</td>\n",
       "      <td>Male</td>\n",
       "      <td>Data Engineer</td>\n",
       "      <td>Smith</td>\n",
       "      <td>13-11-1996</td>\n",
       "      <td>Female</td>\n",
       "      <td>SDE</td>\n",
       "    </tr>\n",
       "    <tr>\n",
       "      <th>2</th>\n",
       "      <td>103</td>\n",
       "      <td>Reg</td>\n",
       "      <td>14-10-1996</td>\n",
       "      <td>Female</td>\n",
       "      <td>Business Analyst</td>\n",
       "      <td>Reg</td>\n",
       "      <td>14-10-1996</td>\n",
       "      <td>Female</td>\n",
       "      <td>Business Mangager</td>\n",
       "    </tr>\n",
       "    <tr>\n",
       "      <th>3</th>\n",
       "      <td>104</td>\n",
       "      <td>Brik</td>\n",
       "      <td>15-10-1996</td>\n",
       "      <td>Female</td>\n",
       "      <td>DevOps</td>\n",
       "      <td>Brik</td>\n",
       "      <td>15-11-1996</td>\n",
       "      <td>Male</td>\n",
       "      <td>Testing</td>\n",
       "    </tr>\n",
       "    <tr>\n",
       "      <th>4</th>\n",
       "      <td>105</td>\n",
       "      <td>Jane Smith</td>\n",
       "      <td>15-10-1996</td>\n",
       "      <td>Male</td>\n",
       "      <td>SDE</td>\n",
       "      <td>Jane Smith</td>\n",
       "      <td>15-10-1996</td>\n",
       "      <td>Male</td>\n",
       "      <td>DevOps</td>\n",
       "    </tr>\n",
       "    <tr>\n",
       "      <th>5</th>\n",
       "      <td>106</td>\n",
       "      <td>Rookie Paul</td>\n",
       "      <td>12-11-1996</td>\n",
       "      <td>Female</td>\n",
       "      <td>Data Analyst</td>\n",
       "      <td>Rookie Paul</td>\n",
       "      <td>12-11-1996</td>\n",
       "      <td>Female</td>\n",
       "      <td>HR</td>\n",
       "    </tr>\n",
       "  </tbody>\n",
       "</table>\n",
       "</div>"
      ],
      "text/plain": [
       "  Employee_Id     Name_old     DOB_old Gender_old          Role_old  \\\n",
       "0         101         John  12-10-1996       Male               SDE   \n",
       "1         102        Smith  13-10-1996       Male     Data Engineer   \n",
       "2         103          Reg  14-10-1996     Female  Business Analyst   \n",
       "3         104         Brik  15-10-1996     Female            DevOps   \n",
       "4         105   Jane Smith  15-10-1996       Male               SDE   \n",
       "5         106  Rookie Paul  12-11-1996     Female      Data Analyst   \n",
       "\n",
       "      Name_new     DOB_new Gender_new           Role_new  \n",
       "0         John  12-10-1996       Male    System Engineer  \n",
       "1        Smith  13-11-1996     Female                SDE  \n",
       "2          Reg  14-10-1996     Female  Business Mangager  \n",
       "3         Brik  15-11-1996       Male            Testing  \n",
       "4   Jane Smith  15-10-1996       Male             DevOps  \n",
       "5  Rookie Paul  12-11-1996     Female                 HR  "
      ]
     },
     "execution_count": 21,
     "metadata": {},
     "output_type": "execute_result"
    }
   ],
   "source": [
    "merge_data=pd.merge(dim_data,staging_data,on=\"Employee_Id\",suffixes=('_old',\"_new\"))\n",
    "merge_data"
   ]
  },
  {
   "cell_type": "markdown",
   "id": "57384e10",
   "metadata": {},
   "source": [
    "## Performing the overriden process on Role Field"
   ]
  },
  {
   "cell_type": "code",
   "execution_count": 22,
   "id": "c0661ed7",
   "metadata": {},
   "outputs": [],
   "source": [
    "for index, row in merge_data.iterrows():\n",
    "    if row['Role_old']!=row['Role_new']:\n",
    "        dim_data.loc[dim_data['Employee_Id']==row['Employee_Id'],'Role']=row['Role_new']"
   ]
  },
  {
   "cell_type": "code",
   "execution_count": 23,
   "id": "d111dabc",
   "metadata": {},
   "outputs": [
    {
     "data": {
      "text/html": [
       "<div>\n",
       "<style scoped>\n",
       "    .dataframe tbody tr th:only-of-type {\n",
       "        vertical-align: middle;\n",
       "    }\n",
       "\n",
       "    .dataframe tbody tr th {\n",
       "        vertical-align: top;\n",
       "    }\n",
       "\n",
       "    .dataframe thead th {\n",
       "        text-align: right;\n",
       "    }\n",
       "</style>\n",
       "<table border=\"1\" class=\"dataframe\">\n",
       "  <thead>\n",
       "    <tr style=\"text-align: right;\">\n",
       "      <th></th>\n",
       "      <th>Employee_Id</th>\n",
       "      <th>Name</th>\n",
       "      <th>DOB</th>\n",
       "      <th>Gender</th>\n",
       "      <th>Role</th>\n",
       "    </tr>\n",
       "  </thead>\n",
       "  <tbody>\n",
       "    <tr>\n",
       "      <th>0</th>\n",
       "      <td>101</td>\n",
       "      <td>John</td>\n",
       "      <td>12-10-1996</td>\n",
       "      <td>Male</td>\n",
       "      <td>System Engineer</td>\n",
       "    </tr>\n",
       "    <tr>\n",
       "      <th>1</th>\n",
       "      <td>102</td>\n",
       "      <td>Smith</td>\n",
       "      <td>13-10-1996</td>\n",
       "      <td>Male</td>\n",
       "      <td>SDE</td>\n",
       "    </tr>\n",
       "    <tr>\n",
       "      <th>2</th>\n",
       "      <td>103</td>\n",
       "      <td>Reg</td>\n",
       "      <td>14-10-1996</td>\n",
       "      <td>Female</td>\n",
       "      <td>Business Mangager</td>\n",
       "    </tr>\n",
       "    <tr>\n",
       "      <th>3</th>\n",
       "      <td>104</td>\n",
       "      <td>Brik</td>\n",
       "      <td>15-10-1996</td>\n",
       "      <td>Female</td>\n",
       "      <td>Testing</td>\n",
       "    </tr>\n",
       "    <tr>\n",
       "      <th>4</th>\n",
       "      <td>105</td>\n",
       "      <td>Jane Smith</td>\n",
       "      <td>15-10-1996</td>\n",
       "      <td>Male</td>\n",
       "      <td>DevOps</td>\n",
       "    </tr>\n",
       "    <tr>\n",
       "      <th>5</th>\n",
       "      <td>106</td>\n",
       "      <td>Rookie Paul</td>\n",
       "      <td>12-11-1996</td>\n",
       "      <td>Female</td>\n",
       "      <td>HR</td>\n",
       "    </tr>\n",
       "  </tbody>\n",
       "</table>\n",
       "</div>"
      ],
      "text/plain": [
       "  Employee_Id         Name         DOB  Gender               Role\n",
       "0         101         John  12-10-1996    Male    System Engineer\n",
       "1         102        Smith  13-10-1996    Male                SDE\n",
       "2         103          Reg  14-10-1996  Female  Business Mangager\n",
       "3         104         Brik  15-10-1996  Female            Testing\n",
       "4         105   Jane Smith  15-10-1996    Male             DevOps\n",
       "5         106  Rookie Paul  12-11-1996  Female                 HR"
      ]
     },
     "execution_count": 23,
     "metadata": {},
     "output_type": "execute_result"
    }
   ],
   "source": [
    "dim_data"
   ]
  },
  {
   "cell_type": "code",
   "execution_count": 24,
   "id": "666e677a",
   "metadata": {},
   "outputs": [
    {
     "data": {
      "text/plain": [
       "6"
      ]
     },
     "execution_count": 24,
     "metadata": {},
     "output_type": "execute_result"
    }
   ],
   "source": [
    "dim_data.to_sql(\"Existing_Data\", con=engine, if_exists='replace', index=False)"
   ]
  },
  {
   "cell_type": "code",
   "execution_count": 25,
   "id": "13fb40b1",
   "metadata": {},
   "outputs": [
    {
     "name": "stderr",
     "output_type": "stream",
     "text": [
      "C:\\Users\\Abhinay\\AppData\\Local\\Temp\\ipykernel_17096\\272427109.py:1: UserWarning: pandas only supports SQLAlchemy connectable (engine/connection) or database string URI or sqlite3 DBAPI2 connection. Other DBAPI2 objects are not tested. Please consider using SQLAlchemy.\n",
      "  dim_data=pd.read_sql(\"Select * from Existing_Data\",con)\n"
     ]
    },
    {
     "data": {
      "text/html": [
       "<div>\n",
       "<style scoped>\n",
       "    .dataframe tbody tr th:only-of-type {\n",
       "        vertical-align: middle;\n",
       "    }\n",
       "\n",
       "    .dataframe tbody tr th {\n",
       "        vertical-align: top;\n",
       "    }\n",
       "\n",
       "    .dataframe thead th {\n",
       "        text-align: right;\n",
       "    }\n",
       "</style>\n",
       "<table border=\"1\" class=\"dataframe\">\n",
       "  <thead>\n",
       "    <tr style=\"text-align: right;\">\n",
       "      <th></th>\n",
       "      <th>Employee_Id</th>\n",
       "      <th>Name</th>\n",
       "      <th>DOB</th>\n",
       "      <th>Gender</th>\n",
       "      <th>Role</th>\n",
       "    </tr>\n",
       "  </thead>\n",
       "  <tbody>\n",
       "    <tr>\n",
       "      <th>0</th>\n",
       "      <td>101</td>\n",
       "      <td>John</td>\n",
       "      <td>12-10-1996</td>\n",
       "      <td>Male</td>\n",
       "      <td>System Engineer</td>\n",
       "    </tr>\n",
       "    <tr>\n",
       "      <th>1</th>\n",
       "      <td>102</td>\n",
       "      <td>Smith</td>\n",
       "      <td>13-10-1996</td>\n",
       "      <td>Male</td>\n",
       "      <td>SDE</td>\n",
       "    </tr>\n",
       "    <tr>\n",
       "      <th>2</th>\n",
       "      <td>103</td>\n",
       "      <td>Reg</td>\n",
       "      <td>14-10-1996</td>\n",
       "      <td>Female</td>\n",
       "      <td>Business Mangager</td>\n",
       "    </tr>\n",
       "    <tr>\n",
       "      <th>3</th>\n",
       "      <td>104</td>\n",
       "      <td>Brik</td>\n",
       "      <td>15-10-1996</td>\n",
       "      <td>Female</td>\n",
       "      <td>Testing</td>\n",
       "    </tr>\n",
       "    <tr>\n",
       "      <th>4</th>\n",
       "      <td>105</td>\n",
       "      <td>Jane Smith</td>\n",
       "      <td>15-10-1996</td>\n",
       "      <td>Male</td>\n",
       "      <td>DevOps</td>\n",
       "    </tr>\n",
       "    <tr>\n",
       "      <th>5</th>\n",
       "      <td>106</td>\n",
       "      <td>Rookie Paul</td>\n",
       "      <td>12-11-1996</td>\n",
       "      <td>Female</td>\n",
       "      <td>HR</td>\n",
       "    </tr>\n",
       "  </tbody>\n",
       "</table>\n",
       "</div>"
      ],
      "text/plain": [
       "  Employee_Id         Name         DOB  Gender               Role\n",
       "0         101         John  12-10-1996    Male    System Engineer\n",
       "1         102        Smith  13-10-1996    Male                SDE\n",
       "2         103          Reg  14-10-1996  Female  Business Mangager\n",
       "3         104         Brik  15-10-1996  Female            Testing\n",
       "4         105   Jane Smith  15-10-1996    Male             DevOps\n",
       "5         106  Rookie Paul  12-11-1996  Female                 HR"
      ]
     },
     "execution_count": 25,
     "metadata": {},
     "output_type": "execute_result"
    }
   ],
   "source": [
    "dim_data=pd.read_sql(\"Select * from Existing_Data\",con)\n",
    "dim_data"
   ]
  },
  {
   "cell_type": "markdown",
   "id": "5f8ad816",
   "metadata": {},
   "source": [
    "# SCD 2"
   ]
  },
  {
   "cell_type": "markdown",
   "id": "22bcd5c8",
   "metadata": {},
   "source": [
    "## Pre-Defined End Date"
   ]
  },
  {
   "cell_type": "code",
   "execution_count": 26,
   "id": "ff39342f",
   "metadata": {},
   "outputs": [],
   "source": [
    "safe_max_date=pd.to_datetime('2200-12-31')"
   ]
  },
  {
   "cell_type": "markdown",
   "id": "aec36b88",
   "metadata": {},
   "source": [
    "## Creation of Tables through Hard Code"
   ]
  },
  {
   "cell_type": "markdown",
   "id": "1c2da04c",
   "metadata": {},
   "source": [
    "### Dimension Table"
   ]
  },
  {
   "cell_type": "code",
   "execution_count": 27,
   "id": "1a6081d7",
   "metadata": {},
   "outputs": [],
   "source": [
    "data={\n",
    "    'Employee_Id':['101','102','103','104','105','106'],\n",
    "    'Name' : ['John','Smith','Reg','Brik','Jane Smith','Rookie Paul'],\n",
    "    'Role': ['System Engineer','SDE','Business Manager','Testing','DevOps','HR'],\n",
    "    'Start_Date': pd.to_datetime(['2025-12-01','2025-11-01','2025-10-01','2025-09-01','2025-08-01','2025-07-01']),\n",
    "    'End_Date':[safe_max_date]*6,\n",
    "    'Active_Flag':['Yes']*6\n",
    "}"
   ]
  },
  {
   "cell_type": "markdown",
   "id": "c0d887b1",
   "metadata": {},
   "source": [
    "### Staging Table"
   ]
  },
  {
   "cell_type": "code",
   "execution_count": 28,
   "id": "c86c651a",
   "metadata": {},
   "outputs": [],
   "source": [
    "stag_data = {\n",
    "    'Employee_Id':['102','106'],\n",
    "    'Name' :['Smith','Rookie Paul'],\n",
    "    'Role' :['HR','SDE']\n",
    "}"
   ]
  },
  {
   "cell_type": "markdown",
   "id": "e90f53f4",
   "metadata": {},
   "source": [
    "## Conversion of Raw data into DataFrame"
   ]
  },
  {
   "cell_type": "code",
   "execution_count": 29,
   "id": "3791a26a",
   "metadata": {},
   "outputs": [],
   "source": [
    "dim_status = pd.DataFrame(data)\n",
    "stag_status = pd.DataFrame(stag_data)"
   ]
  },
  {
   "cell_type": "markdown",
   "id": "e41866de",
   "metadata": {},
   "source": [
    "## Sending the tables into SQL Server"
   ]
  },
  {
   "cell_type": "code",
   "execution_count": 30,
   "id": "994da3fd",
   "metadata": {},
   "outputs": [
    {
     "data": {
      "text/plain": [
       "2"
      ]
     },
     "execution_count": 30,
     "metadata": {},
     "output_type": "execute_result"
    }
   ],
   "source": [
    "dim_status.to_sql(\"Existing_Status\",con=engine,if_exists='replace',index=False)\n",
    "stag_status.to_sql(\"Latest_Status\",con=engine,if_exists='replace',index=False)"
   ]
  },
  {
   "cell_type": "markdown",
   "id": "6539d5d1",
   "metadata": {},
   "source": [
    "## Extracting the Tables"
   ]
  },
  {
   "cell_type": "code",
   "execution_count": 31,
   "id": "df430d80",
   "metadata": {},
   "outputs": [
    {
     "name": "stderr",
     "output_type": "stream",
     "text": [
      "C:\\Users\\Abhinay\\AppData\\Local\\Temp\\ipykernel_17096\\4206214618.py:1: UserWarning: pandas only supports SQLAlchemy connectable (engine/connection) or database string URI or sqlite3 DBAPI2 connection. Other DBAPI2 objects are not tested. Please consider using SQLAlchemy.\n",
      "  dim_status=pd.read_sql('Select * from Existing_Status',con)\n"
     ]
    },
    {
     "data": {
      "text/html": [
       "<div>\n",
       "<style scoped>\n",
       "    .dataframe tbody tr th:only-of-type {\n",
       "        vertical-align: middle;\n",
       "    }\n",
       "\n",
       "    .dataframe tbody tr th {\n",
       "        vertical-align: top;\n",
       "    }\n",
       "\n",
       "    .dataframe thead th {\n",
       "        text-align: right;\n",
       "    }\n",
       "</style>\n",
       "<table border=\"1\" class=\"dataframe\">\n",
       "  <thead>\n",
       "    <tr style=\"text-align: right;\">\n",
       "      <th></th>\n",
       "      <th>Employee_Id</th>\n",
       "      <th>Name</th>\n",
       "      <th>Role</th>\n",
       "      <th>Start_Date</th>\n",
       "      <th>End_Date</th>\n",
       "      <th>Active_Flag</th>\n",
       "    </tr>\n",
       "  </thead>\n",
       "  <tbody>\n",
       "    <tr>\n",
       "      <th>0</th>\n",
       "      <td>101</td>\n",
       "      <td>John</td>\n",
       "      <td>System Engineer</td>\n",
       "      <td>2025-12-01</td>\n",
       "      <td>2200-12-31</td>\n",
       "      <td>Yes</td>\n",
       "    </tr>\n",
       "    <tr>\n",
       "      <th>1</th>\n",
       "      <td>102</td>\n",
       "      <td>Smith</td>\n",
       "      <td>SDE</td>\n",
       "      <td>2025-11-01</td>\n",
       "      <td>2200-12-31</td>\n",
       "      <td>Yes</td>\n",
       "    </tr>\n",
       "    <tr>\n",
       "      <th>2</th>\n",
       "      <td>103</td>\n",
       "      <td>Reg</td>\n",
       "      <td>Business Manager</td>\n",
       "      <td>2025-10-01</td>\n",
       "      <td>2200-12-31</td>\n",
       "      <td>Yes</td>\n",
       "    </tr>\n",
       "    <tr>\n",
       "      <th>3</th>\n",
       "      <td>104</td>\n",
       "      <td>Brik</td>\n",
       "      <td>Testing</td>\n",
       "      <td>2025-09-01</td>\n",
       "      <td>2200-12-31</td>\n",
       "      <td>Yes</td>\n",
       "    </tr>\n",
       "    <tr>\n",
       "      <th>4</th>\n",
       "      <td>105</td>\n",
       "      <td>Jane Smith</td>\n",
       "      <td>DevOps</td>\n",
       "      <td>2025-08-01</td>\n",
       "      <td>2200-12-31</td>\n",
       "      <td>Yes</td>\n",
       "    </tr>\n",
       "    <tr>\n",
       "      <th>5</th>\n",
       "      <td>106</td>\n",
       "      <td>Rookie Paul</td>\n",
       "      <td>HR</td>\n",
       "      <td>2025-07-01</td>\n",
       "      <td>2200-12-31</td>\n",
       "      <td>Yes</td>\n",
       "    </tr>\n",
       "  </tbody>\n",
       "</table>\n",
       "</div>"
      ],
      "text/plain": [
       "  Employee_Id         Name              Role Start_Date   End_Date Active_Flag\n",
       "0         101         John   System Engineer 2025-12-01 2200-12-31         Yes\n",
       "1         102        Smith               SDE 2025-11-01 2200-12-31         Yes\n",
       "2         103          Reg  Business Manager 2025-10-01 2200-12-31         Yes\n",
       "3         104         Brik           Testing 2025-09-01 2200-12-31         Yes\n",
       "4         105   Jane Smith            DevOps 2025-08-01 2200-12-31         Yes\n",
       "5         106  Rookie Paul                HR 2025-07-01 2200-12-31         Yes"
      ]
     },
     "execution_count": 31,
     "metadata": {},
     "output_type": "execute_result"
    }
   ],
   "source": [
    "dim_status=pd.read_sql('Select * from Existing_Status',con)\n",
    "dim_status"
   ]
  },
  {
   "cell_type": "code",
   "execution_count": 32,
   "id": "31e6a65f",
   "metadata": {},
   "outputs": [
    {
     "name": "stderr",
     "output_type": "stream",
     "text": [
      "C:\\Users\\Abhinay\\AppData\\Local\\Temp\\ipykernel_17096\\474767121.py:1: UserWarning: pandas only supports SQLAlchemy connectable (engine/connection) or database string URI or sqlite3 DBAPI2 connection. Other DBAPI2 objects are not tested. Please consider using SQLAlchemy.\n",
      "  stag_status=pd.read_sql('Select * from Latest_Status',con)\n"
     ]
    },
    {
     "data": {
      "text/html": [
       "<div>\n",
       "<style scoped>\n",
       "    .dataframe tbody tr th:only-of-type {\n",
       "        vertical-align: middle;\n",
       "    }\n",
       "\n",
       "    .dataframe tbody tr th {\n",
       "        vertical-align: top;\n",
       "    }\n",
       "\n",
       "    .dataframe thead th {\n",
       "        text-align: right;\n",
       "    }\n",
       "</style>\n",
       "<table border=\"1\" class=\"dataframe\">\n",
       "  <thead>\n",
       "    <tr style=\"text-align: right;\">\n",
       "      <th></th>\n",
       "      <th>Employee_Id</th>\n",
       "      <th>Name</th>\n",
       "      <th>Role</th>\n",
       "    </tr>\n",
       "  </thead>\n",
       "  <tbody>\n",
       "    <tr>\n",
       "      <th>0</th>\n",
       "      <td>102</td>\n",
       "      <td>Smith</td>\n",
       "      <td>HR</td>\n",
       "    </tr>\n",
       "    <tr>\n",
       "      <th>1</th>\n",
       "      <td>106</td>\n",
       "      <td>Rookie Paul</td>\n",
       "      <td>SDE</td>\n",
       "    </tr>\n",
       "  </tbody>\n",
       "</table>\n",
       "</div>"
      ],
      "text/plain": [
       "  Employee_Id         Name Role\n",
       "0         102        Smith   HR\n",
       "1         106  Rookie Paul  SDE"
      ]
     },
     "execution_count": 32,
     "metadata": {},
     "output_type": "execute_result"
    }
   ],
   "source": [
    "stag_status=pd.read_sql('Select * from Latest_Status',con)\n",
    "stag_status"
   ]
  },
  {
   "cell_type": "markdown",
   "id": "cd5c4278",
   "metadata": {},
   "source": [
    "## Verifying the SCD 2 violations"
   ]
  },
  {
   "cell_type": "code",
   "execution_count": 33,
   "id": "a07ef0ed",
   "metadata": {},
   "outputs": [
    {
     "data": {
      "text/html": [
       "<div>\n",
       "<style scoped>\n",
       "    .dataframe tbody tr th:only-of-type {\n",
       "        vertical-align: middle;\n",
       "    }\n",
       "\n",
       "    .dataframe tbody tr th {\n",
       "        vertical-align: top;\n",
       "    }\n",
       "\n",
       "    .dataframe thead th {\n",
       "        text-align: right;\n",
       "    }\n",
       "</style>\n",
       "<table border=\"1\" class=\"dataframe\">\n",
       "  <thead>\n",
       "    <tr style=\"text-align: right;\">\n",
       "      <th></th>\n",
       "      <th>Employee_Id</th>\n",
       "      <th>Name</th>\n",
       "      <th>Role</th>\n",
       "      <th>Start_Date</th>\n",
       "      <th>End_Date</th>\n",
       "      <th>Active_Flag</th>\n",
       "    </tr>\n",
       "  </thead>\n",
       "  <tbody>\n",
       "    <tr>\n",
       "      <th>0</th>\n",
       "      <td>101</td>\n",
       "      <td>John</td>\n",
       "      <td>System Engineer</td>\n",
       "      <td>2025-12-01</td>\n",
       "      <td>2200-12-31</td>\n",
       "      <td>Yes</td>\n",
       "    </tr>\n",
       "    <tr>\n",
       "      <th>1</th>\n",
       "      <td>102</td>\n",
       "      <td>Smith</td>\n",
       "      <td>SDE</td>\n",
       "      <td>2025-11-01</td>\n",
       "      <td>2025-06-23</td>\n",
       "      <td>No</td>\n",
       "    </tr>\n",
       "    <tr>\n",
       "      <th>2</th>\n",
       "      <td>102</td>\n",
       "      <td>Smith</td>\n",
       "      <td>HR</td>\n",
       "      <td>2025-06-24</td>\n",
       "      <td>2200-12-31</td>\n",
       "      <td>Yes</td>\n",
       "    </tr>\n",
       "    <tr>\n",
       "      <th>3</th>\n",
       "      <td>103</td>\n",
       "      <td>Reg</td>\n",
       "      <td>Business Manager</td>\n",
       "      <td>2025-10-01</td>\n",
       "      <td>2200-12-31</td>\n",
       "      <td>Yes</td>\n",
       "    </tr>\n",
       "    <tr>\n",
       "      <th>4</th>\n",
       "      <td>104</td>\n",
       "      <td>Brik</td>\n",
       "      <td>Testing</td>\n",
       "      <td>2025-09-01</td>\n",
       "      <td>2200-12-31</td>\n",
       "      <td>Yes</td>\n",
       "    </tr>\n",
       "    <tr>\n",
       "      <th>5</th>\n",
       "      <td>105</td>\n",
       "      <td>Jane Smith</td>\n",
       "      <td>DevOps</td>\n",
       "      <td>2025-08-01</td>\n",
       "      <td>2200-12-31</td>\n",
       "      <td>Yes</td>\n",
       "    </tr>\n",
       "    <tr>\n",
       "      <th>6</th>\n",
       "      <td>106</td>\n",
       "      <td>Rookie Paul</td>\n",
       "      <td>HR</td>\n",
       "      <td>2025-07-01</td>\n",
       "      <td>2025-06-23</td>\n",
       "      <td>No</td>\n",
       "    </tr>\n",
       "    <tr>\n",
       "      <th>7</th>\n",
       "      <td>106</td>\n",
       "      <td>Rookie Paul</td>\n",
       "      <td>SDE</td>\n",
       "      <td>2025-06-24</td>\n",
       "      <td>2200-12-31</td>\n",
       "      <td>Yes</td>\n",
       "    </tr>\n",
       "  </tbody>\n",
       "</table>\n",
       "</div>"
      ],
      "text/plain": [
       "  Employee_Id         Name              Role Start_Date   End_Date Active_Flag\n",
       "0         101         John   System Engineer 2025-12-01 2200-12-31         Yes\n",
       "1         102        Smith               SDE 2025-11-01 2025-06-23          No\n",
       "2         102        Smith                HR 2025-06-24 2200-12-31         Yes\n",
       "3         103          Reg  Business Manager 2025-10-01 2200-12-31         Yes\n",
       "4         104         Brik           Testing 2025-09-01 2200-12-31         Yes\n",
       "5         105   Jane Smith            DevOps 2025-08-01 2200-12-31         Yes\n",
       "6         106  Rookie Paul                HR 2025-07-01 2025-06-23          No\n",
       "7         106  Rookie Paul               SDE 2025-06-24 2200-12-31         Yes"
      ]
     },
     "execution_count": 33,
     "metadata": {},
     "output_type": "execute_result"
    }
   ],
   "source": [
    "safe_max_date=pd.to_datetime('2200-12-31')\n",
    "today=pd.to_datetime('2025-06-24')\n",
    "\n",
    "if \"Start_Date\" not in dim_status.columns:\n",
    "    dim_status[\"Start_Date\"]=today\n",
    "if \"End_Date\" not in dim_status.columns:\n",
    "    dim_status[\"End_Date\"]=safe_max_date\n",
    "if \"Active_Flag\" not in dim_status.columns:\n",
    "    dim_status[\"Active_Flag\"]=\"Yes\"\n",
    "\n",
    "\n",
    "from datetime import timedelta\n",
    "\n",
    "for index, rows in stag_status.iterrows():\n",
    "    emp_id=rows['Employee_Id']\n",
    "    name=rows['Name']\n",
    "    role=rows['Role']\n",
    "\n",
    "    mark=dim_status[(dim_status['Employee_Id']==emp_id) & (dim_status['Active_Flag']=='Yes')]\n",
    "    \n",
    "    if not mark.empty:\n",
    "        current_role=mark.iloc[0]['Role']\n",
    "        if role!=current_role:\n",
    "            dim_status.loc[mark.index,'End_Date']=today-timedelta(days=1)\n",
    "            dim_status.loc[mark.index,'Active_Flag']='No'\n",
    "\n",
    "            new_data ={\n",
    "                'Employee_Id':emp_id,\n",
    "                'Name':name,\n",
    "                'Role':role,\n",
    "                'Start_Date':today,\n",
    "                'End_Date':safe_max_date,\n",
    "                'Active_Flag':'Yes'\n",
    "            }\n",
    "            dim_status=pd.concat([dim_status,pd.DataFrame([new_data])], ignore_index=True)\n",
    "\n",
    "    else:\n",
    "        new_data ={\n",
    "                'Employee_Id':emp_id,\n",
    "                'Name':name,\n",
    "                'Role':role,\n",
    "                'Start_Date':today,\n",
    "                'End_Date':safe_max_date,\n",
    "                'Active_Flag':'Yes'\n",
    "            }\n",
    "        dim_status=pd.concat([dim_status,pd.DataFrame([new_data])], ignore_index=True)\n",
    "\n",
    "dim_status.sort_values(['Employee_Id'],inplace=True)\n",
    "dim_status.reset_index(drop=True,inplace=True)\n",
    "dim_status\n",
    "                           "
   ]
  },
  {
   "cell_type": "markdown",
   "id": "25a6bdbf",
   "metadata": {},
   "source": [
    "# SCD 3"
   ]
  },
  {
   "cell_type": "markdown",
   "id": "d77294c8",
   "metadata": {},
   "source": [
    "## Creation of Table"
   ]
  },
  {
   "cell_type": "code",
   "execution_count": 34,
   "id": "8e4b3b00",
   "metadata": {},
   "outputs": [
    {
     "ename": "ProgrammingError",
     "evalue": "('42S01', \"[42S01] [Microsoft][ODBC Driver 17 for SQL Server][SQL Server]There is already an object named 'Existing_Position' in the database. (2714) (SQLExecDirectW)\")",
     "output_type": "error",
     "traceback": [
      "\u001b[31m---------------------------------------------------------------------------\u001b[39m",
      "\u001b[31mProgrammingError\u001b[39m                          Traceback (most recent call last)",
      "\u001b[36mCell\u001b[39m\u001b[36m \u001b[39m\u001b[32mIn[34]\u001b[39m\u001b[32m, line 9\u001b[39m\n\u001b[32m      1\u001b[39m cursor=con.cursor()\n\u001b[32m      2\u001b[39m create_query=\u001b[33m\"\"\"\u001b[39m\n\u001b[32m      3\u001b[39m \u001b[33m    Create Table Existing_Position(\u001b[39m\n\u001b[32m      4\u001b[39m \u001b[33m        Employee_Id Int,\u001b[39m\n\u001b[32m   (...)\u001b[39m\u001b[32m      7\u001b[39m \u001b[33m    )\u001b[39m\n\u001b[32m      8\u001b[39m \u001b[33m\"\"\"\u001b[39m\n\u001b[32m----> \u001b[39m\u001b[32m9\u001b[39m \u001b[43mcursor\u001b[49m\u001b[43m.\u001b[49m\u001b[43mexecute\u001b[49m\u001b[43m(\u001b[49m\u001b[43mcreate_query\u001b[49m\u001b[43m)\u001b[49m\n\u001b[32m     10\u001b[39m con.commit()\n",
      "\u001b[31mProgrammingError\u001b[39m: ('42S01', \"[42S01] [Microsoft][ODBC Driver 17 for SQL Server][SQL Server]There is already an object named 'Existing_Position' in the database. (2714) (SQLExecDirectW)\")"
     ]
    }
   ],
   "source": [
    "cursor=con.cursor()\n",
    "create_query=\"\"\"\n",
    "    Create Table Existing_Position(\n",
    "        Employee_Id Int,\n",
    "        Name Varchar(100),\n",
    "        Role Varchar(100)\n",
    "    )\n",
    "\"\"\"\n",
    "cursor.execute(create_query)\n",
    "con.commit()"
   ]
  },
  {
   "cell_type": "markdown",
   "id": "2893a733",
   "metadata": {},
   "source": [
    "## Insertion of Tables"
   ]
  },
  {
   "cell_type": "code",
   "execution_count": null,
   "id": "84ad2310",
   "metadata": {},
   "outputs": [],
   "source": [
    "insert_into_query=\"\"\"\n",
    "    Insert into Existing_Position(Employee_Id,Name,Role)\n",
    "    values(?,?,?)\n",
    "\"\"\"\n",
    "values=('101','Abhi','SDE-1')\n",
    "values_1=('102','Varshini','Data Analyst')\n",
    "values_2=('103','Bharath','Front-End')\n",
    "values_3=('104','Pranav','Tester')\n",
    "values_4=('105','Sandeep','Business Development')\n",
    "cursor.execute(insert_into_query,values)\n",
    "cursor.execute(insert_into_query,values_1)\n",
    "cursor.execute(insert_into_query,values_2)\n",
    "cursor.execute(insert_into_query,values_3)\n",
    "cursor.execute(insert_into_query,values_4)\n",
    "cursor.commit()\n",
    "con.commit()"
   ]
  },
  {
   "cell_type": "code",
   "execution_count": null,
   "id": "1f5d4ba8",
   "metadata": {},
   "outputs": [
    {
     "name": "stderr",
     "output_type": "stream",
     "text": [
      "C:\\Users\\Abhinay\\AppData\\Local\\Temp\\ipykernel_11940\\4007044115.py:1: UserWarning: pandas only supports SQLAlchemy connectable (engine/connection) or database string URI or sqlite3 DBAPI2 connection. Other DBAPI2 objects are not tested. Please consider using SQLAlchemy.\n",
      "  dim_pos=pd.read_sql(\"Select * from Existing_Position\",con)\n"
     ]
    },
    {
     "data": {
      "text/html": [
       "<div>\n",
       "<style scoped>\n",
       "    .dataframe tbody tr th:only-of-type {\n",
       "        vertical-align: middle;\n",
       "    }\n",
       "\n",
       "    .dataframe tbody tr th {\n",
       "        vertical-align: top;\n",
       "    }\n",
       "\n",
       "    .dataframe thead th {\n",
       "        text-align: right;\n",
       "    }\n",
       "</style>\n",
       "<table border=\"1\" class=\"dataframe\">\n",
       "  <thead>\n",
       "    <tr style=\"text-align: right;\">\n",
       "      <th></th>\n",
       "      <th>Employee_Id</th>\n",
       "      <th>Name</th>\n",
       "      <th>Role</th>\n",
       "    </tr>\n",
       "  </thead>\n",
       "  <tbody>\n",
       "    <tr>\n",
       "      <th>0</th>\n",
       "      <td>101</td>\n",
       "      <td>Abhi</td>\n",
       "      <td>SDE-1</td>\n",
       "    </tr>\n",
       "    <tr>\n",
       "      <th>1</th>\n",
       "      <td>102</td>\n",
       "      <td>Varshini</td>\n",
       "      <td>Data Analyst</td>\n",
       "    </tr>\n",
       "    <tr>\n",
       "      <th>2</th>\n",
       "      <td>103</td>\n",
       "      <td>Bharath</td>\n",
       "      <td>Front-End</td>\n",
       "    </tr>\n",
       "    <tr>\n",
       "      <th>3</th>\n",
       "      <td>104</td>\n",
       "      <td>Pranav</td>\n",
       "      <td>Tester</td>\n",
       "    </tr>\n",
       "    <tr>\n",
       "      <th>4</th>\n",
       "      <td>105</td>\n",
       "      <td>Sandeep</td>\n",
       "      <td>Business Development</td>\n",
       "    </tr>\n",
       "  </tbody>\n",
       "</table>\n",
       "</div>"
      ],
      "text/plain": [
       "   Employee_Id      Name                  Role\n",
       "0          101      Abhi                 SDE-1\n",
       "1          102  Varshini          Data Analyst\n",
       "2          103   Bharath             Front-End\n",
       "3          104    Pranav                Tester\n",
       "4          105   Sandeep  Business Development"
      ]
     },
     "execution_count": 475,
     "metadata": {},
     "output_type": "execute_result"
    }
   ],
   "source": [
    "dim_pos=pd.read_sql(\"Select * from Existing_Position\",con)\n",
    "dim_pos"
   ]
  },
  {
   "cell_type": "code",
   "execution_count": null,
   "id": "93f71ced",
   "metadata": {},
   "outputs": [],
   "source": [
    "create_query=\"\"\"\n",
    "    Create Table Latest_Position(\n",
    "        Employee_Id Int,\n",
    "        Name Varchar(100),\n",
    "        Role Varchar(100),\n",
    "        Update_Date date\n",
    "    )\n",
    "\"\"\"\n",
    "cursor.execute(create_query)\n",
    "con.commit()"
   ]
  },
  {
   "cell_type": "code",
   "execution_count": null,
   "id": "97ddb375",
   "metadata": {},
   "outputs": [],
   "source": [
    "today=pd.to_datetime('2025-06-25')\n",
    "cursor=con.cursor()\n",
    "insert_into_lat_pos=\"\"\"\n",
    "    Insert into Latest_Position(Employee_Id,Name,Role,Update_Date)\n",
    "    Values(?,?,?,?)\n",
    "\"\"\"\n",
    "value=(101,'Abhinay','SDE-2',today)\n",
    "value_1=(103,'Bharath','Full_Stack_Developer',today)\n",
    "\n",
    "cursor.execute(insert_into_lat_pos,value)\n",
    "cursor.execute(insert_into_lat_pos,value_1)\n",
    "con.commit()"
   ]
  },
  {
   "cell_type": "code",
   "execution_count": null,
   "id": "40e8266a",
   "metadata": {},
   "outputs": [
    {
     "name": "stderr",
     "output_type": "stream",
     "text": [
      "C:\\Users\\Abhinay\\AppData\\Local\\Temp\\ipykernel_11940\\2137588570.py:1: UserWarning: pandas only supports SQLAlchemy connectable (engine/connection) or database string URI or sqlite3 DBAPI2 connection. Other DBAPI2 objects are not tested. Please consider using SQLAlchemy.\n",
      "  stag_pos=pd.read_sql(\"Select * from Latest_Position\",con)\n"
     ]
    },
    {
     "data": {
      "text/html": [
       "<div>\n",
       "<style scoped>\n",
       "    .dataframe tbody tr th:only-of-type {\n",
       "        vertical-align: middle;\n",
       "    }\n",
       "\n",
       "    .dataframe tbody tr th {\n",
       "        vertical-align: top;\n",
       "    }\n",
       "\n",
       "    .dataframe thead th {\n",
       "        text-align: right;\n",
       "    }\n",
       "</style>\n",
       "<table border=\"1\" class=\"dataframe\">\n",
       "  <thead>\n",
       "    <tr style=\"text-align: right;\">\n",
       "      <th></th>\n",
       "      <th>Employee_Id</th>\n",
       "      <th>Name</th>\n",
       "      <th>Role</th>\n",
       "      <th>Update_Date</th>\n",
       "    </tr>\n",
       "  </thead>\n",
       "  <tbody>\n",
       "    <tr>\n",
       "      <th>0</th>\n",
       "      <td>101</td>\n",
       "      <td>Abhinay</td>\n",
       "      <td>SDE-2</td>\n",
       "      <td>2025-06-25</td>\n",
       "    </tr>\n",
       "    <tr>\n",
       "      <th>1</th>\n",
       "      <td>103</td>\n",
       "      <td>Bharath</td>\n",
       "      <td>Full_Stack_Developer</td>\n",
       "      <td>2025-06-25</td>\n",
       "    </tr>\n",
       "  </tbody>\n",
       "</table>\n",
       "</div>"
      ],
      "text/plain": [
       "   Employee_Id     Name                  Role Update_Date\n",
       "0          101  Abhinay                 SDE-2  2025-06-25\n",
       "1          103  Bharath  Full_Stack_Developer  2025-06-25"
      ]
     },
     "execution_count": 478,
     "metadata": {},
     "output_type": "execute_result"
    }
   ],
   "source": [
    "stag_pos=pd.read_sql(\"Select * from Latest_Position\",con)\n",
    "stag_pos"
   ]
  },
  {
   "cell_type": "markdown",
   "id": "8a97abed",
   "metadata": {},
   "source": [
    "# Verfying the SCD-3 Violation"
   ]
  },
  {
   "cell_type": "code",
   "execution_count": null,
   "id": "5cfb8068",
   "metadata": {},
   "outputs": [],
   "source": [
    "from datetime import date, timedelta\n",
    "today = date.today()\n",
    "\n",
    "if 'Previous_Role' not in dim_pos.columns:\n",
    "    dim_pos['Previous_Role']=None\n",
    "if 'Last_Update' not in dim_pos.columns:\n",
    "    dim_pos['Last_Update']=today-timedelta(days=1)\n",
    "    \n",
    "for index, rows in stag_pos.iterrows():\n",
    "    empid=rows['Employee_Id']\n",
    "    name_scd3=rows['Name']\n",
    "    role=rows['Role']\n",
    "    update_date=rows['Update_Date']\n",
    "\n",
    "    if empid in dim_pos['Employee_Id'].values:\n",
    "        current_role=dim_pos.loc[dim_pos['Employee_Id']==empid,'Role'].values[0]\n",
    "    if current_role!=role:\n",
    "        dim_pos.loc[dim_pos['Employee_Id']==empid,'Previous_Role']=current_role\n",
    "        dim_pos.loc[dim_pos['Employee_Id']==empid,'Role']=role\n",
    "        dim_pos.loc[dim_pos['Employee_Id']==empid,'Last_Update']=update_date\n",
    "        \n",
    "    else:\n",
    "        new_pos={\n",
    "            'Employee_Id':empid,\n",
    "            'Name':name_scd3,\n",
    "            'Role':role,\n",
    "            'Last_Update':update_date\n",
    "\n",
    "        }\n",
    "    pd.concat([dim_pos,pd.DataFrame([new_pos])],ignore_index=True)"
   ]
  },
  {
   "cell_type": "markdown",
   "id": "2215c8b1",
   "metadata": {},
   "source": [
    "## Rearranging the columns"
   ]
  },
  {
   "cell_type": "code",
   "execution_count": null,
   "id": "3c08cb2c",
   "metadata": {},
   "outputs": [
    {
     "data": {
      "text/html": [
       "<div>\n",
       "<style scoped>\n",
       "    .dataframe tbody tr th:only-of-type {\n",
       "        vertical-align: middle;\n",
       "    }\n",
       "\n",
       "    .dataframe tbody tr th {\n",
       "        vertical-align: top;\n",
       "    }\n",
       "\n",
       "    .dataframe thead th {\n",
       "        text-align: right;\n",
       "    }\n",
       "</style>\n",
       "<table border=\"1\" class=\"dataframe\">\n",
       "  <thead>\n",
       "    <tr style=\"text-align: right;\">\n",
       "      <th></th>\n",
       "      <th>Employee_Id</th>\n",
       "      <th>Name</th>\n",
       "      <th>Role</th>\n",
       "      <th>Previous_Role</th>\n",
       "      <th>Last_Update</th>\n",
       "    </tr>\n",
       "  </thead>\n",
       "  <tbody>\n",
       "    <tr>\n",
       "      <th>0</th>\n",
       "      <td>101</td>\n",
       "      <td>Abhi</td>\n",
       "      <td>SDE-2</td>\n",
       "      <td>SDE-1</td>\n",
       "      <td>2025-06-25</td>\n",
       "    </tr>\n",
       "    <tr>\n",
       "      <th>1</th>\n",
       "      <td>102</td>\n",
       "      <td>Varshini</td>\n",
       "      <td>Data Analyst</td>\n",
       "      <td>None</td>\n",
       "      <td>2025-06-24</td>\n",
       "    </tr>\n",
       "    <tr>\n",
       "      <th>2</th>\n",
       "      <td>103</td>\n",
       "      <td>Bharath</td>\n",
       "      <td>Full_Stack_Developer</td>\n",
       "      <td>Front-End</td>\n",
       "      <td>2025-06-25</td>\n",
       "    </tr>\n",
       "    <tr>\n",
       "      <th>3</th>\n",
       "      <td>104</td>\n",
       "      <td>Pranav</td>\n",
       "      <td>Tester</td>\n",
       "      <td>None</td>\n",
       "      <td>2025-06-24</td>\n",
       "    </tr>\n",
       "    <tr>\n",
       "      <th>4</th>\n",
       "      <td>105</td>\n",
       "      <td>Sandeep</td>\n",
       "      <td>Business Development</td>\n",
       "      <td>None</td>\n",
       "      <td>2025-06-24</td>\n",
       "    </tr>\n",
       "  </tbody>\n",
       "</table>\n",
       "</div>"
      ],
      "text/plain": [
       "   Employee_Id      Name                  Role Previous_Role Last_Update\n",
       "0          101      Abhi                 SDE-2         SDE-1  2025-06-25\n",
       "1          102  Varshini          Data Analyst          None  2025-06-24\n",
       "2          103   Bharath  Full_Stack_Developer     Front-End  2025-06-25\n",
       "3          104    Pranav                Tester          None  2025-06-24\n",
       "4          105   Sandeep  Business Development          None  2025-06-24"
      ]
     },
     "execution_count": 373,
     "metadata": {},
     "output_type": "execute_result"
    }
   ],
   "source": [
    "column_order=['Employee_Id','Name','Role','Previous_Role','Last_Update']\n",
    "dim_pos=dim_pos[column_order]\n",
    "dim_pos"
   ]
  },
  {
   "cell_type": "markdown",
   "id": "da9d3e83",
   "metadata": {},
   "source": [
    "# SCD 4 "
   ]
  },
  {
   "cell_type": "code",
   "execution_count": null,
   "id": "4358dd3e",
   "metadata": {},
   "outputs": [],
   "source": [
    "df=pd.read_csv(\"order_data 1.csv\")"
   ]
  },
  {
   "cell_type": "markdown",
   "id": "2236bbe8",
   "metadata": {},
   "source": [
    "## Sending the data into SQL"
   ]
  },
  {
   "cell_type": "code",
   "execution_count": null,
   "id": "eaddadf2",
   "metadata": {},
   "outputs": [
    {
     "data": {
      "text/plain": [
       "255"
      ]
     },
     "execution_count": 100,
     "metadata": {},
     "output_type": "execute_result"
    }
   ],
   "source": [
    "df.to_sql(\"Current_Orders\",con=engine,if_exists='replace',index=False)"
   ]
  },
  {
   "cell_type": "code",
   "execution_count": null,
   "id": "d5449996",
   "metadata": {},
   "outputs": [
    {
     "data": {
      "text/html": [
       "<div>\n",
       "<style scoped>\n",
       "    .dataframe tbody tr th:only-of-type {\n",
       "        vertical-align: middle;\n",
       "    }\n",
       "\n",
       "    .dataframe tbody tr th {\n",
       "        vertical-align: top;\n",
       "    }\n",
       "\n",
       "    .dataframe thead th {\n",
       "        text-align: right;\n",
       "    }\n",
       "</style>\n",
       "<table border=\"1\" class=\"dataframe\">\n",
       "  <thead>\n",
       "    <tr style=\"text-align: right;\">\n",
       "      <th></th>\n",
       "      <th>order_id</th>\n",
       "      <th>customer_id</th>\n",
       "      <th>order_date</th>\n",
       "      <th>order_amount</th>\n",
       "      <th>order_status</th>\n",
       "      <th>product_category</th>\n",
       "    </tr>\n",
       "  </thead>\n",
       "  <tbody>\n",
       "    <tr>\n",
       "      <th>0</th>\n",
       "      <td>892a07a4-d252-4775-85e0-73077143e1c6</td>\n",
       "      <td>966</td>\n",
       "      <td>2024-11-27</td>\n",
       "      <td>317.64</td>\n",
       "      <td>Cancelled</td>\n",
       "      <td>Home &amp; Garden</td>\n",
       "    </tr>\n",
       "    <tr>\n",
       "      <th>1</th>\n",
       "      <td>ae160758-e187-47b2-9350-032f88f55491</td>\n",
       "      <td>345</td>\n",
       "      <td>2023-03-27</td>\n",
       "      <td>645.87</td>\n",
       "      <td>Completed</td>\n",
       "      <td>Home &amp; Garden</td>\n",
       "    </tr>\n",
       "    <tr>\n",
       "      <th>2</th>\n",
       "      <td>7c50456e-6123-45cc-aa19-128bef3754d6</td>\n",
       "      <td>503</td>\n",
       "      <td>2024-03-31</td>\n",
       "      <td>880.86</td>\n",
       "      <td>Pending</td>\n",
       "      <td>Clothing</td>\n",
       "    </tr>\n",
       "    <tr>\n",
       "      <th>3</th>\n",
       "      <td>c788b56b-3716-4cd9-a827-d4dc401ba00c</td>\n",
       "      <td>385</td>\n",
       "      <td>2023-08-09</td>\n",
       "      <td>876.83</td>\n",
       "      <td>Cancelled</td>\n",
       "      <td>Home &amp; Garden</td>\n",
       "    </tr>\n",
       "    <tr>\n",
       "      <th>4</th>\n",
       "      <td>925ab5b1-adb1-4302-a70b-1c2db724e02b</td>\n",
       "      <td>817</td>\n",
       "      <td>2023-04-19</td>\n",
       "      <td>264.53</td>\n",
       "      <td>Pending</td>\n",
       "      <td>Home &amp; Garden</td>\n",
       "    </tr>\n",
       "    <tr>\n",
       "      <th>...</th>\n",
       "      <td>...</td>\n",
       "      <td>...</td>\n",
       "      <td>...</td>\n",
       "      <td>...</td>\n",
       "      <td>...</td>\n",
       "      <td>...</td>\n",
       "    </tr>\n",
       "    <tr>\n",
       "      <th>1995</th>\n",
       "      <td>cb6f0f6b-3d4b-402c-ba9e-a8e666422d97</td>\n",
       "      <td>799</td>\n",
       "      <td>2023-11-20</td>\n",
       "      <td>634.62</td>\n",
       "      <td>Cancelled</td>\n",
       "      <td>Clothing</td>\n",
       "    </tr>\n",
       "    <tr>\n",
       "      <th>1996</th>\n",
       "      <td>900fdea4-fd87-486d-bc20-26d045767ed8</td>\n",
       "      <td>692</td>\n",
       "      <td>2023-07-20</td>\n",
       "      <td>945.97</td>\n",
       "      <td>Cancelled</td>\n",
       "      <td>Electronics</td>\n",
       "    </tr>\n",
       "    <tr>\n",
       "      <th>1997</th>\n",
       "      <td>4550ccfe-18c1-45d5-8c31-0edf1e3d9fa3</td>\n",
       "      <td>695</td>\n",
       "      <td>2024-01-06</td>\n",
       "      <td>229.99</td>\n",
       "      <td>Cancelled</td>\n",
       "      <td>Home &amp; Garden</td>\n",
       "    </tr>\n",
       "    <tr>\n",
       "      <th>1998</th>\n",
       "      <td>dd19b028-dfa2-4eda-a66f-44f5401ef27e</td>\n",
       "      <td>502</td>\n",
       "      <td>2023-02-05</td>\n",
       "      <td>596.65</td>\n",
       "      <td>Completed</td>\n",
       "      <td>Electronics</td>\n",
       "    </tr>\n",
       "    <tr>\n",
       "      <th>1999</th>\n",
       "      <td>5e32ff66-d3dd-48ad-8e47-cd71bb2e97ea</td>\n",
       "      <td>348</td>\n",
       "      <td>2024-11-02</td>\n",
       "      <td>238.69</td>\n",
       "      <td>Completed</td>\n",
       "      <td>Books</td>\n",
       "    </tr>\n",
       "  </tbody>\n",
       "</table>\n",
       "<p>2000 rows × 6 columns</p>\n",
       "</div>"
      ],
      "text/plain": [
       "                                  order_id  customer_id  order_date  \\\n",
       "0     892a07a4-d252-4775-85e0-73077143e1c6          966  2024-11-27   \n",
       "1     ae160758-e187-47b2-9350-032f88f55491          345  2023-03-27   \n",
       "2     7c50456e-6123-45cc-aa19-128bef3754d6          503  2024-03-31   \n",
       "3     c788b56b-3716-4cd9-a827-d4dc401ba00c          385  2023-08-09   \n",
       "4     925ab5b1-adb1-4302-a70b-1c2db724e02b          817  2023-04-19   \n",
       "...                                    ...          ...         ...   \n",
       "1995  cb6f0f6b-3d4b-402c-ba9e-a8e666422d97          799  2023-11-20   \n",
       "1996  900fdea4-fd87-486d-bc20-26d045767ed8          692  2023-07-20   \n",
       "1997  4550ccfe-18c1-45d5-8c31-0edf1e3d9fa3          695  2024-01-06   \n",
       "1998  dd19b028-dfa2-4eda-a66f-44f5401ef27e          502  2023-02-05   \n",
       "1999  5e32ff66-d3dd-48ad-8e47-cd71bb2e97ea          348  2024-11-02   \n",
       "\n",
       "      order_amount order_status product_category  \n",
       "0           317.64    Cancelled    Home & Garden  \n",
       "1           645.87    Completed    Home & Garden  \n",
       "2           880.86      Pending         Clothing  \n",
       "3           876.83    Cancelled    Home & Garden  \n",
       "4           264.53      Pending    Home & Garden  \n",
       "...            ...          ...              ...  \n",
       "1995        634.62    Cancelled         Clothing  \n",
       "1996        945.97    Cancelled      Electronics  \n",
       "1997        229.99    Cancelled    Home & Garden  \n",
       "1998        596.65    Completed      Electronics  \n",
       "1999        238.69    Completed            Books  \n",
       "\n",
       "[2000 rows x 6 columns]"
      ]
     },
     "execution_count": 101,
     "metadata": {},
     "output_type": "execute_result"
    }
   ],
   "source": [
    "dim_cur_orders=pd.read_sql(\"Select * from Current_Orders\",con=engine)\n",
    "dim_cur_orders"
   ]
  },
  {
   "cell_type": "markdown",
   "id": "9fad6975",
   "metadata": {},
   "source": [
    "## Creating a Historical Table "
   ]
  },
  {
   "cell_type": "code",
   "execution_count": null,
   "id": "bd9289f4",
   "metadata": {},
   "outputs": [],
   "source": [
    "dim_his_orders=pd.DataFrame(columns=['order_id','customer_id','order_date','order_amount','order_status','product_category','Version'])"
   ]
  },
  {
   "cell_type": "markdown",
   "id": "0d9d3caa",
   "metadata": {},
   "source": [
    "## Creating a Staging Table"
   ]
  },
  {
   "cell_type": "code",
   "execution_count": null,
   "id": "95ae2180",
   "metadata": {},
   "outputs": [
    {
     "name": "stderr",
     "output_type": "stream",
     "text": [
      "C:\\Users\\Abhinay\\AppData\\Local\\Temp\\ipykernel_6988\\547008414.py:4: UserWarning: Parsing dates in %d-%m-%Y format when dayfirst=False (the default) was specified. Pass `dayfirst=True` or specify a format to silence this warning.\n",
      "  'order_date':pd.to_datetime(['16-05-2024','17-10-2024','17-10-2024','01-01-2023','01-01-2023']),\n"
     ]
    }
   ],
   "source": [
    "data=pd.DataFrame({\n",
    "    'order_id':['2e76eb6f-ff16-4948-a1a0-67ac69172649','070eeb51-487b-4935-9550-75aac363ebb5','070eeb51-487b-4935-9550-75aac363ebb5','ed82969d-edf5-400c-ae65-c6d172cf1f73','ed82969d-edf5-400c-ae65-c6d172cf1f73'],\n",
    "    'customer_id':['8','17','17','764','764'],\n",
    "    'order_date':pd.to_datetime(['16-05-2024','17-10-2024','17-10-2024','01-01-2023','01-01-2023']),\n",
    "    'order_amount':['196.27','930.65','930.65','971.86','971.86'],\n",
    "    'order_status':['Completed','Cancelled','Pending','Completed','Returned'],\n",
    "    'product_category':['Clothing','Books','Skincare','Food','Home & Garden']\n",
    "})"
   ]
  },
  {
   "cell_type": "markdown",
   "id": "142454bf",
   "metadata": {},
   "source": [
    "## Sending the Table into SQL Server\n"
   ]
  },
  {
   "cell_type": "code",
   "execution_count": null,
   "id": "32f21ba6",
   "metadata": {},
   "outputs": [
    {
     "data": {
      "text/plain": [
       "5"
      ]
     },
     "execution_count": 104,
     "metadata": {},
     "output_type": "execute_result"
    }
   ],
   "source": [
    "data.to_sql(\"Latest_Orders\",con=engine,index=False,if_exists='replace')"
   ]
  },
  {
   "cell_type": "code",
   "execution_count": null,
   "id": "2ffba5d4",
   "metadata": {},
   "outputs": [
    {
     "data": {
      "text/html": [
       "<div>\n",
       "<style scoped>\n",
       "    .dataframe tbody tr th:only-of-type {\n",
       "        vertical-align: middle;\n",
       "    }\n",
       "\n",
       "    .dataframe tbody tr th {\n",
       "        vertical-align: top;\n",
       "    }\n",
       "\n",
       "    .dataframe thead th {\n",
       "        text-align: right;\n",
       "    }\n",
       "</style>\n",
       "<table border=\"1\" class=\"dataframe\">\n",
       "  <thead>\n",
       "    <tr style=\"text-align: right;\">\n",
       "      <th></th>\n",
       "      <th>order_id</th>\n",
       "      <th>customer_id</th>\n",
       "      <th>order_date</th>\n",
       "      <th>order_amount</th>\n",
       "      <th>order_status</th>\n",
       "      <th>product_category</th>\n",
       "    </tr>\n",
       "  </thead>\n",
       "  <tbody>\n",
       "    <tr>\n",
       "      <th>0</th>\n",
       "      <td>2e76eb6f-ff16-4948-a1a0-67ac69172649</td>\n",
       "      <td>8</td>\n",
       "      <td>2024-05-16</td>\n",
       "      <td>196.27</td>\n",
       "      <td>Completed</td>\n",
       "      <td>Clothing</td>\n",
       "    </tr>\n",
       "    <tr>\n",
       "      <th>1</th>\n",
       "      <td>070eeb51-487b-4935-9550-75aac363ebb5</td>\n",
       "      <td>17</td>\n",
       "      <td>2024-10-17</td>\n",
       "      <td>930.65</td>\n",
       "      <td>Cancelled</td>\n",
       "      <td>Books</td>\n",
       "    </tr>\n",
       "    <tr>\n",
       "      <th>2</th>\n",
       "      <td>070eeb51-487b-4935-9550-75aac363ebb5</td>\n",
       "      <td>17</td>\n",
       "      <td>2024-10-17</td>\n",
       "      <td>930.65</td>\n",
       "      <td>Pending</td>\n",
       "      <td>Skincare</td>\n",
       "    </tr>\n",
       "    <tr>\n",
       "      <th>3</th>\n",
       "      <td>ed82969d-edf5-400c-ae65-c6d172cf1f73</td>\n",
       "      <td>764</td>\n",
       "      <td>2023-01-01</td>\n",
       "      <td>971.86</td>\n",
       "      <td>Completed</td>\n",
       "      <td>Food</td>\n",
       "    </tr>\n",
       "    <tr>\n",
       "      <th>4</th>\n",
       "      <td>ed82969d-edf5-400c-ae65-c6d172cf1f73</td>\n",
       "      <td>764</td>\n",
       "      <td>2023-01-01</td>\n",
       "      <td>971.86</td>\n",
       "      <td>Returned</td>\n",
       "      <td>Home &amp; Garden</td>\n",
       "    </tr>\n",
       "  </tbody>\n",
       "</table>\n",
       "</div>"
      ],
      "text/plain": [
       "                               order_id customer_id order_date order_amount  \\\n",
       "0  2e76eb6f-ff16-4948-a1a0-67ac69172649           8 2024-05-16       196.27   \n",
       "1  070eeb51-487b-4935-9550-75aac363ebb5          17 2024-10-17       930.65   \n",
       "2  070eeb51-487b-4935-9550-75aac363ebb5          17 2024-10-17       930.65   \n",
       "3  ed82969d-edf5-400c-ae65-c6d172cf1f73         764 2023-01-01       971.86   \n",
       "4  ed82969d-edf5-400c-ae65-c6d172cf1f73         764 2023-01-01       971.86   \n",
       "\n",
       "  order_status product_category  \n",
       "0    Completed         Clothing  \n",
       "1    Cancelled            Books  \n",
       "2      Pending         Skincare  \n",
       "3    Completed             Food  \n",
       "4     Returned    Home & Garden  "
      ]
     },
     "execution_count": 105,
     "metadata": {},
     "output_type": "execute_result"
    }
   ],
   "source": [
    "stag_orders=pd.read_sql(\"Select * from Latest_Orders\",con=engine)\n",
    "stag_orders"
   ]
  },
  {
   "cell_type": "markdown",
   "id": "9cfd77e0",
   "metadata": {},
   "source": [
    "## Performing the SCD 4 and verification"
   ]
  },
  {
   "cell_type": "code",
   "execution_count": null,
   "id": "896ed347",
   "metadata": {},
   "outputs": [
    {
     "name": "stderr",
     "output_type": "stream",
     "text": [
      "C:\\Users\\Abhinay\\AppData\\Local\\Temp\\ipykernel_6988\\2789495861.py:44: FutureWarning: The behavior of DataFrame concatenation with empty or all-NA entries is deprecated. In a future version, this will no longer exclude empty or all-NA columns when determining the result dtypes. To retain the old behavior, exclude the relevant entries before the concat operation.\n",
      "  dim_his_orders=pd.concat([dim_his_orders,pd.DataFrame([history_data])],ignore_index=True)\n"
     ]
    },
    {
     "data": {
      "text/html": [
       "<div>\n",
       "<style scoped>\n",
       "    .dataframe tbody tr th:only-of-type {\n",
       "        vertical-align: middle;\n",
       "    }\n",
       "\n",
       "    .dataframe tbody tr th {\n",
       "        vertical-align: top;\n",
       "    }\n",
       "\n",
       "    .dataframe thead th {\n",
       "        text-align: right;\n",
       "    }\n",
       "</style>\n",
       "<table border=\"1\" class=\"dataframe\">\n",
       "  <thead>\n",
       "    <tr style=\"text-align: right;\">\n",
       "      <th></th>\n",
       "      <th>order_id</th>\n",
       "      <th>customer_id</th>\n",
       "      <th>order_date</th>\n",
       "      <th>order_amount</th>\n",
       "      <th>order_status</th>\n",
       "      <th>product_category</th>\n",
       "      <th>Version</th>\n",
       "    </tr>\n",
       "  </thead>\n",
       "  <tbody>\n",
       "    <tr>\n",
       "      <th>0</th>\n",
       "      <td>2e76eb6f-ff16-4948-a1a0-67ac69172649</td>\n",
       "      <td>8</td>\n",
       "      <td>2024-05-16</td>\n",
       "      <td>196.27</td>\n",
       "      <td>Completed</td>\n",
       "      <td>Clothing</td>\n",
       "      <td>1</td>\n",
       "    </tr>\n",
       "    <tr>\n",
       "      <th>1</th>\n",
       "      <td>070eeb51-487b-4935-9550-75aac363ebb5</td>\n",
       "      <td>17</td>\n",
       "      <td>2024-10-17</td>\n",
       "      <td>930.65</td>\n",
       "      <td>Cancelled</td>\n",
       "      <td>Books</td>\n",
       "      <td>1</td>\n",
       "    </tr>\n",
       "    <tr>\n",
       "      <th>2</th>\n",
       "      <td>070eeb51-487b-4935-9550-75aac363ebb5</td>\n",
       "      <td>17</td>\n",
       "      <td>2024-10-17</td>\n",
       "      <td>930.65</td>\n",
       "      <td>Pending</td>\n",
       "      <td>Skincare</td>\n",
       "      <td>2</td>\n",
       "    </tr>\n",
       "    <tr>\n",
       "      <th>3</th>\n",
       "      <td>ed82969d-edf5-400c-ae65-c6d172cf1f73</td>\n",
       "      <td>764</td>\n",
       "      <td>2023-01-01</td>\n",
       "      <td>971.86</td>\n",
       "      <td>Completed</td>\n",
       "      <td>Food</td>\n",
       "      <td>1</td>\n",
       "    </tr>\n",
       "    <tr>\n",
       "      <th>4</th>\n",
       "      <td>ed82969d-edf5-400c-ae65-c6d172cf1f73</td>\n",
       "      <td>764</td>\n",
       "      <td>2023-01-01</td>\n",
       "      <td>971.86</td>\n",
       "      <td>Returned</td>\n",
       "      <td>Home &amp; Garden</td>\n",
       "      <td>2</td>\n",
       "    </tr>\n",
       "  </tbody>\n",
       "</table>\n",
       "</div>"
      ],
      "text/plain": [
       "                               order_id customer_id order_date order_amount  \\\n",
       "0  2e76eb6f-ff16-4948-a1a0-67ac69172649           8 2024-05-16       196.27   \n",
       "1  070eeb51-487b-4935-9550-75aac363ebb5          17 2024-10-17       930.65   \n",
       "2  070eeb51-487b-4935-9550-75aac363ebb5          17 2024-10-17       930.65   \n",
       "3  ed82969d-edf5-400c-ae65-c6d172cf1f73         764 2023-01-01       971.86   \n",
       "4  ed82969d-edf5-400c-ae65-c6d172cf1f73         764 2023-01-01       971.86   \n",
       "\n",
       "  order_status product_category Version  \n",
       "0    Completed         Clothing       1  \n",
       "1    Cancelled            Books       1  \n",
       "2      Pending         Skincare       2  \n",
       "3    Completed             Food       1  \n",
       "4     Returned    Home & Garden       2  "
      ]
     },
     "execution_count": 106,
     "metadata": {},
     "output_type": "execute_result"
    }
   ],
   "source": [
    "for index,rows in stag_orders.iterrows():\n",
    "    orderid=rows['order_id']\n",
    "    customerid=rows['customer_id']\n",
    "    orderdate=rows['order_date']\n",
    "    orderamount=rows['order_amount']\n",
    "    orderstatus=rows['order_status']\n",
    "    category=rows['product_category']\n",
    "\n",
    "    exisitng=dim_cur_orders[dim_cur_orders['order_id']==orderid]\n",
    "\n",
    "    if exisitng.empty:\n",
    "        new={\n",
    "            'order_id':orderid,\n",
    "            'customer_id':customerid,\n",
    "            'order_date':orderdate,\n",
    "            'order_amount':orderamount,\n",
    "            'order_status':orderstatus,\n",
    "            'product_category':category\n",
    "        }\n",
    "        dim_cur_orders=pd.concat([dim_cur_orders,pd.DataFrame([new])],ignore_index=True)\n",
    "\n",
    "    else:\n",
    "        current_order_date=exisitng.iloc[0]['order_date']\n",
    "        current_order_status=exisitng.iloc[0]['order_status']\n",
    "        current_product_category=exisitng.iloc[0]['product_category']\n",
    "\n",
    "        if (current_order_date!=orderdate or current_order_status!=orderstatus) or current_product_category!=category:\n",
    "            prev_version=dim_his_orders[dim_his_orders['order_id']==orderid]['Version'].max()\n",
    "            current_version=1 if pd.isna(prev_version) else int(prev_version)+1\n",
    "\n",
    "            history_data={\n",
    "            'order_id':orderid,\n",
    "            'customer_id':customerid,\n",
    "            'order_date':orderdate,\n",
    "            'order_amount':orderamount,\n",
    "            'order_status':orderstatus,\n",
    "            'product_category':category,\n",
    "            'Version':current_version\n",
    "            }\n",
    "\n",
    "            history_row = exisitng.to_dict()\n",
    "            history_row['Version'] = current_version\n",
    "\n",
    "            dim_his_orders=pd.concat([dim_his_orders,pd.DataFrame([history_data])],ignore_index=True)\n",
    "\n",
    "        dim_cur_orders.loc[dim_cur_orders['order_id']==orderid,['order_date','order_status','product_category']]=[orderdate,orderstatus,category]\n",
    "                                                                                                                            \n",
    "dim_his_orders   "
   ]
  },
  {
   "cell_type": "markdown",
   "id": "f6efbb29",
   "metadata": {},
   "source": [
    "## Verifying the current_order changes"
   ]
  },
  {
   "cell_type": "code",
   "execution_count": null,
   "id": "f41b64d8",
   "metadata": {},
   "outputs": [
    {
     "data": {
      "text/html": [
       "<div>\n",
       "<style scoped>\n",
       "    .dataframe tbody tr th:only-of-type {\n",
       "        vertical-align: middle;\n",
       "    }\n",
       "\n",
       "    .dataframe tbody tr th {\n",
       "        vertical-align: top;\n",
       "    }\n",
       "\n",
       "    .dataframe thead th {\n",
       "        text-align: right;\n",
       "    }\n",
       "</style>\n",
       "<table border=\"1\" class=\"dataframe\">\n",
       "  <thead>\n",
       "    <tr style=\"text-align: right;\">\n",
       "      <th></th>\n",
       "      <th>order_id</th>\n",
       "      <th>customer_id</th>\n",
       "      <th>order_date</th>\n",
       "      <th>order_amount</th>\n",
       "      <th>order_status</th>\n",
       "      <th>product_category</th>\n",
       "    </tr>\n",
       "  </thead>\n",
       "  <tbody>\n",
       "    <tr>\n",
       "      <th>1169</th>\n",
       "      <td>e6f759ed-f648-4537-8a6a-358005239e3b</td>\n",
       "      <td>764</td>\n",
       "      <td>2023-05-05</td>\n",
       "      <td>618.29</td>\n",
       "      <td>Pending</td>\n",
       "      <td>Toys</td>\n",
       "    </tr>\n",
       "    <tr>\n",
       "      <th>1224</th>\n",
       "      <td>ed82969d-edf5-400c-ae65-c6d172cf1f73</td>\n",
       "      <td>764</td>\n",
       "      <td>2023-01-01 00:00:00</td>\n",
       "      <td>971.86</td>\n",
       "      <td>Returned</td>\n",
       "      <td>Home &amp; Garden</td>\n",
       "    </tr>\n",
       "  </tbody>\n",
       "</table>\n",
       "</div>"
      ],
      "text/plain": [
       "                                  order_id  customer_id           order_date  \\\n",
       "1169  e6f759ed-f648-4537-8a6a-358005239e3b          764           2023-05-05   \n",
       "1224  ed82969d-edf5-400c-ae65-c6d172cf1f73          764  2023-01-01 00:00:00   \n",
       "\n",
       "      order_amount order_status product_category  \n",
       "1169        618.29      Pending             Toys  \n",
       "1224        971.86     Returned    Home & Garden  "
      ]
     },
     "execution_count": 107,
     "metadata": {},
     "output_type": "execute_result"
    }
   ],
   "source": [
    "dim_cur_orders[dim_cur_orders[\"customer_id\"]==764]"
   ]
  },
  {
   "cell_type": "markdown",
   "id": "d47f682d",
   "metadata": {},
   "source": [
    "## Updating them into the SQL Server"
   ]
  },
  {
   "cell_type": "code",
   "execution_count": null,
   "id": "30f3d65c",
   "metadata": {},
   "outputs": [
    {
     "data": {
      "text/plain": [
       "255"
      ]
     },
     "execution_count": 108,
     "metadata": {},
     "output_type": "execute_result"
    }
   ],
   "source": [
    "dim_cur_orders.to_sql(\"Current_Orders\",con=engine,if_exists='replace',index=False)"
   ]
  },
  {
   "cell_type": "code",
   "execution_count": null,
   "id": "32ee8f6f",
   "metadata": {},
   "outputs": [
    {
     "data": {
      "text/plain": [
       "5"
      ]
     },
     "execution_count": 109,
     "metadata": {},
     "output_type": "execute_result"
    }
   ],
   "source": [
    "dim_his_orders.to_sql(\"Historical_Orders\",con=engine,if_exists='replace',index=False)"
   ]
  },
  {
   "cell_type": "markdown",
   "id": "5b94e1dc",
   "metadata": {},
   "source": [
    "# SCD 6"
   ]
  },
  {
   "cell_type": "markdown",
   "id": "92bae757",
   "metadata": {},
   "source": [
    "## Creating Tables for Dimension Data"
   ]
  },
  {
   "cell_type": "code",
   "execution_count": 35,
   "id": "920469b1",
   "metadata": {},
   "outputs": [
    {
     "data": {
      "text/plain": [
       "<pyodbc.Cursor at 0x2074e529330>"
      ]
     },
     "execution_count": 35,
     "metadata": {},
     "output_type": "execute_result"
    }
   ],
   "source": [
    "cursor=con.cursor()\n",
    "create_table_query=\"\"\"\n",
    "Create Table Existing_Info(\n",
    "    Employee_Id Int Primary key,\n",
    "    Name Varchar(75),\n",
    "    Email Varchar(50),\n",
    "    Start_Date date,\n",
    "    End_Date date,\n",
    "    Current_Role Varchar(30),\n",
    "    Active_Flag Varchar(10)\n",
    ")\n",
    "\"\"\"\n",
    "cursor.execute(create_table_query)"
   ]
  },
  {
   "cell_type": "code",
   "execution_count": 36,
   "id": "3560d903",
   "metadata": {},
   "outputs": [],
   "source": [
    "safe_max_date=pd.to_datetime('2200-12-31')\n",
    "insert_into_table=\"\"\"\n",
    "Insert into Existing_Info(Employee_Id,Name,Email,Start_Date,End_Date,Current_Role,Active_Flag)\n",
    "Values(?,?,?,?,?,?,?)\n",
    "\"\"\"\n",
    "value=(101,'A','a@gmail.com',pd.to_datetime('2025-01-01'),safe_max_date,'SDE-Intern','Yes')\n",
    "value1=(102,'B','b@gmail.com',pd.to_datetime('2025-02-01'),safe_max_date,'DataEngineer-Intern','Yes')\n",
    "value2=(103,'C','c@gmail.com',pd.to_datetime('2025-03-01'),safe_max_date,'ML Engineer-Intern','Yes')\n",
    "value3=(104,'D','d@gmail.com',pd.to_datetime('2025-04-01'),safe_max_date,'Tester-Intern','Yes')\n",
    "value4=(105,'E','f@gmail.com',pd.to_datetime('2025-05-01'),safe_max_date,'HR-Intern','Yes')\n",
    "cursor.execute(insert_into_table,value)\n",
    "cursor.execute(insert_into_table,value1)\n",
    "cursor.execute(insert_into_table,value2)\n",
    "cursor.execute(insert_into_table,value3)\n",
    "cursor.execute(insert_into_table,value4)\n",
    "con.commit()"
   ]
  },
  {
   "cell_type": "code",
   "execution_count": 37,
   "id": "a6c0e889",
   "metadata": {},
   "outputs": [],
   "source": [
    "dim_info=pd.read_sql('Select * from Existing_Info',con=engine)"
   ]
  },
  {
   "cell_type": "code",
   "execution_count": 38,
   "id": "d641b875",
   "metadata": {},
   "outputs": [
    {
     "data": {
      "text/html": [
       "<div>\n",
       "<style scoped>\n",
       "    .dataframe tbody tr th:only-of-type {\n",
       "        vertical-align: middle;\n",
       "    }\n",
       "\n",
       "    .dataframe tbody tr th {\n",
       "        vertical-align: top;\n",
       "    }\n",
       "\n",
       "    .dataframe thead th {\n",
       "        text-align: right;\n",
       "    }\n",
       "</style>\n",
       "<table border=\"1\" class=\"dataframe\">\n",
       "  <thead>\n",
       "    <tr style=\"text-align: right;\">\n",
       "      <th></th>\n",
       "      <th>Employee_Id</th>\n",
       "      <th>Name</th>\n",
       "      <th>Email</th>\n",
       "      <th>Start_Date</th>\n",
       "      <th>End_Date</th>\n",
       "      <th>Current_Role</th>\n",
       "      <th>Active_Flag</th>\n",
       "    </tr>\n",
       "  </thead>\n",
       "  <tbody>\n",
       "    <tr>\n",
       "      <th>0</th>\n",
       "      <td>101</td>\n",
       "      <td>A</td>\n",
       "      <td>a@gmail.com</td>\n",
       "      <td>2025-01-01</td>\n",
       "      <td>2200-12-31</td>\n",
       "      <td>SDE-Intern</td>\n",
       "      <td>Yes</td>\n",
       "    </tr>\n",
       "    <tr>\n",
       "      <th>1</th>\n",
       "      <td>102</td>\n",
       "      <td>B</td>\n",
       "      <td>b@gmail.com</td>\n",
       "      <td>2025-02-01</td>\n",
       "      <td>2200-12-31</td>\n",
       "      <td>DataEngineer-Intern</td>\n",
       "      <td>Yes</td>\n",
       "    </tr>\n",
       "    <tr>\n",
       "      <th>2</th>\n",
       "      <td>103</td>\n",
       "      <td>C</td>\n",
       "      <td>c@gmail.com</td>\n",
       "      <td>2025-03-01</td>\n",
       "      <td>2200-12-31</td>\n",
       "      <td>ML Engineer-Intern</td>\n",
       "      <td>Yes</td>\n",
       "    </tr>\n",
       "    <tr>\n",
       "      <th>3</th>\n",
       "      <td>104</td>\n",
       "      <td>D</td>\n",
       "      <td>d@gmail.com</td>\n",
       "      <td>2025-04-01</td>\n",
       "      <td>2200-12-31</td>\n",
       "      <td>Tester-Intern</td>\n",
       "      <td>Yes</td>\n",
       "    </tr>\n",
       "    <tr>\n",
       "      <th>4</th>\n",
       "      <td>105</td>\n",
       "      <td>E</td>\n",
       "      <td>f@gmail.com</td>\n",
       "      <td>2025-05-01</td>\n",
       "      <td>2200-12-31</td>\n",
       "      <td>HR-Intern</td>\n",
       "      <td>Yes</td>\n",
       "    </tr>\n",
       "  </tbody>\n",
       "</table>\n",
       "</div>"
      ],
      "text/plain": [
       "   Employee_Id Name        Email  Start_Date    End_Date         Current_Role  \\\n",
       "0          101    A  a@gmail.com  2025-01-01  2200-12-31           SDE-Intern   \n",
       "1          102    B  b@gmail.com  2025-02-01  2200-12-31  DataEngineer-Intern   \n",
       "2          103    C  c@gmail.com  2025-03-01  2200-12-31   ML Engineer-Intern   \n",
       "3          104    D  d@gmail.com  2025-04-01  2200-12-31        Tester-Intern   \n",
       "4          105    E  f@gmail.com  2025-05-01  2200-12-31            HR-Intern   \n",
       "\n",
       "  Active_Flag  \n",
       "0         Yes  \n",
       "1         Yes  \n",
       "2         Yes  \n",
       "3         Yes  \n",
       "4         Yes  "
      ]
     },
     "execution_count": 38,
     "metadata": {},
     "output_type": "execute_result"
    }
   ],
   "source": [
    "dim_info"
   ]
  },
  {
   "cell_type": "markdown",
   "id": "067cd9c4",
   "metadata": {},
   "source": [
    "## Creating Stag Data"
   ]
  },
  {
   "cell_type": "code",
   "execution_count": 39,
   "id": "cf00868f",
   "metadata": {},
   "outputs": [],
   "source": [
    "data_creation=pd.DataFrame({\n",
    "    'Employee_Id':[101,103,105,101],\n",
    "    'Name':['A','C','E','A'],\n",
    "    'Email':['a@gmail.com','c@gmail.com','e@gmail.com','a@gmail.com'],\n",
    "    'Start_Date':pd.to_datetime(['2025-03-01','2025-05-01','2025-06-01','2025-05-01']),\n",
    "    'Role':['SDE-1','ML Engineer','HR','SDE-2']\n",
    "})"
   ]
  },
  {
   "cell_type": "code",
   "execution_count": 40,
   "id": "d11f6ad6",
   "metadata": {},
   "outputs": [],
   "source": [
    "stag_info=data_creation.to_sql(\"Latest_Info\",con=engine,if_exists='replace',index=False)"
   ]
  },
  {
   "cell_type": "code",
   "execution_count": 41,
   "id": "578190ea",
   "metadata": {},
   "outputs": [],
   "source": [
    "stag_info=pd.read_sql(\"Select * from Latest_Info\",con=engine)"
   ]
  },
  {
   "cell_type": "code",
   "execution_count": 42,
   "id": "cfc219f1",
   "metadata": {},
   "outputs": [
    {
     "data": {
      "text/html": [
       "<div>\n",
       "<style scoped>\n",
       "    .dataframe tbody tr th:only-of-type {\n",
       "        vertical-align: middle;\n",
       "    }\n",
       "\n",
       "    .dataframe tbody tr th {\n",
       "        vertical-align: top;\n",
       "    }\n",
       "\n",
       "    .dataframe thead th {\n",
       "        text-align: right;\n",
       "    }\n",
       "</style>\n",
       "<table border=\"1\" class=\"dataframe\">\n",
       "  <thead>\n",
       "    <tr style=\"text-align: right;\">\n",
       "      <th></th>\n",
       "      <th>Employee_Id</th>\n",
       "      <th>Name</th>\n",
       "      <th>Email</th>\n",
       "      <th>Start_Date</th>\n",
       "      <th>Role</th>\n",
       "    </tr>\n",
       "  </thead>\n",
       "  <tbody>\n",
       "    <tr>\n",
       "      <th>0</th>\n",
       "      <td>101</td>\n",
       "      <td>A</td>\n",
       "      <td>a@gmail.com</td>\n",
       "      <td>2025-03-01</td>\n",
       "      <td>SDE-1</td>\n",
       "    </tr>\n",
       "    <tr>\n",
       "      <th>1</th>\n",
       "      <td>103</td>\n",
       "      <td>C</td>\n",
       "      <td>c@gmail.com</td>\n",
       "      <td>2025-05-01</td>\n",
       "      <td>ML Engineer</td>\n",
       "    </tr>\n",
       "    <tr>\n",
       "      <th>2</th>\n",
       "      <td>105</td>\n",
       "      <td>E</td>\n",
       "      <td>e@gmail.com</td>\n",
       "      <td>2025-06-01</td>\n",
       "      <td>HR</td>\n",
       "    </tr>\n",
       "    <tr>\n",
       "      <th>3</th>\n",
       "      <td>101</td>\n",
       "      <td>A</td>\n",
       "      <td>a@gmail.com</td>\n",
       "      <td>2025-05-01</td>\n",
       "      <td>SDE-2</td>\n",
       "    </tr>\n",
       "  </tbody>\n",
       "</table>\n",
       "</div>"
      ],
      "text/plain": [
       "   Employee_Id Name        Email Start_Date         Role\n",
       "0          101    A  a@gmail.com 2025-03-01        SDE-1\n",
       "1          103    C  c@gmail.com 2025-05-01  ML Engineer\n",
       "2          105    E  e@gmail.com 2025-06-01           HR\n",
       "3          101    A  a@gmail.com 2025-05-01        SDE-2"
      ]
     },
     "execution_count": 42,
     "metadata": {},
     "output_type": "execute_result"
    }
   ],
   "source": [
    "stag_info"
   ]
  },
  {
   "cell_type": "markdown",
   "id": "fc4b0676",
   "metadata": {},
   "source": [
    "## Verifying the SCD 6 Violations"
   ]
  },
  {
   "cell_type": "code",
   "execution_count": null,
   "id": "3f236ffb",
   "metadata": {},
   "outputs": [],
   "source": [
    "from datetime import date,timedelta\n",
    "\n",
    "if 'End_Date' not in dim_info.columns:\n",
    "    dim_info[\"End_Date\"]=pd.NaT\n",
    "if \"Active_Flag\" not in dim_info.columns:\n",
    "    dim_info[\"Active_Flag\"]=\"Yes\"\n",
    "if 'Previous_Role' not in dim_info.columns:\n",
    "    dim_info['Previous_Role']=pd.NA\n",
    "\n",
    "for index,rows in stag_info.iterrows():\n",
    "    empid=rows['Employee_Id']\n",
    "    name=rows['Name']\n",
    "    email=rows['Email']\n",
    "    startdate=rows['Start_Date']\n",
    "    role=rows['Role']\n",
    "\n",
    "    existing=dim_info.loc[(dim_info['Employee_Id']==empid) & (dim_info['Active_Flag']=='Yes')]\n",
    "\n",
    "    if existing.empty:\n",
    "        new_data={\n",
    "            'Employee_Id':empid,\n",
    "            'Name':name,\n",
    "            'Email':email,\n",
    "            'Start_Date':startdate,\n",
    "            'End_Date':safe_max_date,\n",
    "            'Current_Role':role,\n",
    "            'Previous_Role':pd.NA,\n",
    "            'Active_Flag':'Yes'\n",
    "        }\n",
    "        dim_info=pd.concat([dim_info,pd.DataFrame([new_data])],ignore_index=True)\n",
    "    else:\n",
    "        current_role=existing.iloc[0]['Current_Role']\n",
    "        if current_role!=role:\n",
    "            #----------------- SCD 1,2,3 Type --------------------\n",
    "            dim_info.loc[existing.index,'Email']=email\n",
    "            dim_info.loc[existing.index,'End_Date']=startdate-timedelta(days=1)\n",
    "            dim_info.loc[existing.index,'Active_Flag']='No'\n",
    "\n",
    "            newdata={\n",
    "                'Employee_Id':empid,\n",
    "                'Name':name,\n",
    "                'Email':email,\n",
    "                'Start_Date':startdate,\n",
    "                'End_Date':safe_max_date,\n",
    "                'Current_Role':role,\n",
    "                'Previous_Role':current_role,\n",
    "                'Active_Flag':'Yes'\n",
    "            }\n",
    "            dim_info=pd.concat([dim_info,pd.DataFrame([newdata])],ignore_index=True)\n",
    "\n",
    "for col in [\"Start_Date\",\"End_Date\"]:\n",
    "    dim_info[col]=pd.to_datetime(dim_info[col]).dt.date"
   ]
  },
  {
   "cell_type": "markdown",
   "id": "3f83f036",
   "metadata": {},
   "source": [
    "## Reframing the Columns Accordingly"
   ]
  },
  {
   "cell_type": "code",
   "execution_count": 44,
   "id": "7d681e98",
   "metadata": {},
   "outputs": [
    {
     "data": {
      "text/html": [
       "<div>\n",
       "<style scoped>\n",
       "    .dataframe tbody tr th:only-of-type {\n",
       "        vertical-align: middle;\n",
       "    }\n",
       "\n",
       "    .dataframe tbody tr th {\n",
       "        vertical-align: top;\n",
       "    }\n",
       "\n",
       "    .dataframe thead th {\n",
       "        text-align: right;\n",
       "    }\n",
       "</style>\n",
       "<table border=\"1\" class=\"dataframe\">\n",
       "  <thead>\n",
       "    <tr style=\"text-align: right;\">\n",
       "      <th></th>\n",
       "      <th>Employee_Id</th>\n",
       "      <th>Name</th>\n",
       "      <th>Email</th>\n",
       "      <th>Start_Date</th>\n",
       "      <th>End_Date</th>\n",
       "      <th>Current_Role</th>\n",
       "      <th>Previous_Role</th>\n",
       "      <th>Active_Flag</th>\n",
       "    </tr>\n",
       "  </thead>\n",
       "  <tbody>\n",
       "    <tr>\n",
       "      <th>0</th>\n",
       "      <td>101</td>\n",
       "      <td>A</td>\n",
       "      <td>a@gmail.com</td>\n",
       "      <td>2025-01-01</td>\n",
       "      <td>2025-02-28</td>\n",
       "      <td>SDE-Intern</td>\n",
       "      <td>NaN</td>\n",
       "      <td>No</td>\n",
       "    </tr>\n",
       "    <tr>\n",
       "      <th>1</th>\n",
       "      <td>101</td>\n",
       "      <td>A</td>\n",
       "      <td>a@gmail.com</td>\n",
       "      <td>2025-03-01</td>\n",
       "      <td>2025-04-30</td>\n",
       "      <td>SDE-1</td>\n",
       "      <td>SDE-Intern</td>\n",
       "      <td>No</td>\n",
       "    </tr>\n",
       "    <tr>\n",
       "      <th>2</th>\n",
       "      <td>101</td>\n",
       "      <td>A</td>\n",
       "      <td>a@gmail.com</td>\n",
       "      <td>2025-05-01</td>\n",
       "      <td>2200-12-31</td>\n",
       "      <td>SDE-2</td>\n",
       "      <td>SDE-1</td>\n",
       "      <td>Yes</td>\n",
       "    </tr>\n",
       "    <tr>\n",
       "      <th>3</th>\n",
       "      <td>102</td>\n",
       "      <td>B</td>\n",
       "      <td>b@gmail.com</td>\n",
       "      <td>2025-02-01</td>\n",
       "      <td>2200-12-31</td>\n",
       "      <td>DataEngineer-Intern</td>\n",
       "      <td>NaN</td>\n",
       "      <td>Yes</td>\n",
       "    </tr>\n",
       "    <tr>\n",
       "      <th>4</th>\n",
       "      <td>103</td>\n",
       "      <td>C</td>\n",
       "      <td>c@gmail.com</td>\n",
       "      <td>2025-03-01</td>\n",
       "      <td>2025-04-30</td>\n",
       "      <td>ML Engineer-Intern</td>\n",
       "      <td>NaN</td>\n",
       "      <td>No</td>\n",
       "    </tr>\n",
       "    <tr>\n",
       "      <th>5</th>\n",
       "      <td>103</td>\n",
       "      <td>C</td>\n",
       "      <td>c@gmail.com</td>\n",
       "      <td>2025-05-01</td>\n",
       "      <td>2200-12-31</td>\n",
       "      <td>ML Engineer</td>\n",
       "      <td>ML Engineer-Intern</td>\n",
       "      <td>Yes</td>\n",
       "    </tr>\n",
       "    <tr>\n",
       "      <th>6</th>\n",
       "      <td>104</td>\n",
       "      <td>D</td>\n",
       "      <td>d@gmail.com</td>\n",
       "      <td>2025-04-01</td>\n",
       "      <td>2200-12-31</td>\n",
       "      <td>Tester-Intern</td>\n",
       "      <td>NaN</td>\n",
       "      <td>Yes</td>\n",
       "    </tr>\n",
       "    <tr>\n",
       "      <th>7</th>\n",
       "      <td>105</td>\n",
       "      <td>E</td>\n",
       "      <td>e@gmail.com</td>\n",
       "      <td>2025-05-01</td>\n",
       "      <td>2025-05-31</td>\n",
       "      <td>HR-Intern</td>\n",
       "      <td>NaN</td>\n",
       "      <td>No</td>\n",
       "    </tr>\n",
       "    <tr>\n",
       "      <th>8</th>\n",
       "      <td>105</td>\n",
       "      <td>E</td>\n",
       "      <td>e@gmail.com</td>\n",
       "      <td>2025-06-01</td>\n",
       "      <td>2200-12-31</td>\n",
       "      <td>HR</td>\n",
       "      <td>HR-Intern</td>\n",
       "      <td>Yes</td>\n",
       "    </tr>\n",
       "  </tbody>\n",
       "</table>\n",
       "</div>"
      ],
      "text/plain": [
       "   Employee_Id Name        Email  Start_Date    End_Date         Current_Role  \\\n",
       "0          101    A  a@gmail.com  2025-01-01  2025-02-28           SDE-Intern   \n",
       "1          101    A  a@gmail.com  2025-03-01  2025-04-30                SDE-1   \n",
       "2          101    A  a@gmail.com  2025-05-01  2200-12-31                SDE-2   \n",
       "3          102    B  b@gmail.com  2025-02-01  2200-12-31  DataEngineer-Intern   \n",
       "4          103    C  c@gmail.com  2025-03-01  2025-04-30   ML Engineer-Intern   \n",
       "5          103    C  c@gmail.com  2025-05-01  2200-12-31          ML Engineer   \n",
       "6          104    D  d@gmail.com  2025-04-01  2200-12-31        Tester-Intern   \n",
       "7          105    E  e@gmail.com  2025-05-01  2025-05-31            HR-Intern   \n",
       "8          105    E  e@gmail.com  2025-06-01  2200-12-31                   HR   \n",
       "\n",
       "        Previous_Role Active_Flag  \n",
       "0                 NaN          No  \n",
       "1          SDE-Intern          No  \n",
       "2               SDE-1         Yes  \n",
       "3                 NaN         Yes  \n",
       "4                 NaN          No  \n",
       "5  ML Engineer-Intern         Yes  \n",
       "6                 NaN         Yes  \n",
       "7                 NaN          No  \n",
       "8           HR-Intern         Yes  "
      ]
     },
     "execution_count": 44,
     "metadata": {},
     "output_type": "execute_result"
    }
   ],
   "source": [
    "columns_order=['Employee_Id','Name','Email','Start_Date','End_Date','Current_Role','Previous_Role','Active_Flag']\n",
    "dim_info=dim_info[columns_order]\n",
    "dim_info.sort_values([\"Employee_Id\",\"Start_Date\"]).reset_index(drop=True)"
   ]
  }
 ],
 "metadata": {
  "kernelspec": {
   "display_name": "Python 3",
   "language": "python",
   "name": "python3"
  },
  "language_info": {
   "codemirror_mode": {
    "name": "ipython",
    "version": 3
   },
   "file_extension": ".py",
   "mimetype": "text/x-python",
   "name": "python",
   "nbconvert_exporter": "python",
   "pygments_lexer": "ipython3",
   "version": "3.11.9"
  }
 },
 "nbformat": 4,
 "nbformat_minor": 5
}
